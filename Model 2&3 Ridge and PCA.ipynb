{
 "cells": [
  {
   "cell_type": "markdown",
   "metadata": {},
   "source": [
    "# Overview\n",
    "\n",
    "Problem Approach:\n",
    "The give data on predicting corrosion rate of carbon steel contains features such as\n",
    "1. Temperature \n",
    "2. Time of wetness  \n",
    "3. sulfur dioxide \n",
    "4. chloride concentrations \n",
    "5. Exposure Time (Years)\n",
    "and doesn't contain two features \"Relative humidity and precipitation \" \n",
    "\n",
    "Models Used\n",
    "* [Lasso Regression](#Lasso-Regression)\n",
    "* [Ridge Regression](#Ridge-Regression)\n",
    "* [PCA with Ridge Regression](#PCA-with-Ridge-Regression)\n",
    "* [Regression Trees](#Regression-Trees)\n",
    "* [XG Boost with Regression](#XG-Boost-with-Regression)\n",
    "* [ANN](#A-N-N)\n",
    "\n",
    "\n",
    "Out of these models the XG Boost comes out to be the best model (with the R2 of 98.8% and 84.2% for training and testing datasets respectively)"
   ]
  },
  {
   "cell_type": "markdown",
   "metadata": {},
   "source": [
    "Summary:\n",
    " 1. The data is pretty clean with no missing values there aren't many outliers as well\n",
    " 2. The distribution of target variable is skewed which is some what corrected by applying log transformation\n",
    " 3. The Simple models of Lasso and Ridge reression gave moderate R2 values\n",
    " 4. The PCA is applied and as expected the performance is dropped, this is due to the low number of indipendent\n",
    "    variables and they are condensed into only single PCA component, so the loss of information  accounted for the\n",
    "    drop in the performance\n",
    " 5. So Regression tree is employed, The simple Regression tree got proned to overfitting with training value of 1 and\n",
    "    test value of 0.52, so hyper parameter tuning is done, but the performance didn't improve much compared to\n",
    "    previou models\n",
    " 6. Later XG boost with parameter tuning is applied and the model performed significantly well then the rest\n",
    " 7. The ANN model though comparatively better than others is not as good as the XG boost\n",
    " \n",
    " But overall all the models colud be improved with more number of features such as Humidity and Precipitation "
   ]
  },
  {
   "cell_type": "markdown",
   "metadata": {},
   "source": [
    "### Import all the necessary libraries"
   ]
  },
  {
   "cell_type": "code",
   "execution_count": 1,
   "metadata": {},
   "outputs": [],
   "source": [
    "import numpy as np\n",
    "import pandas as pd\n",
    "import matplotlib.pyplot as plt\n",
    "import seaborn as sns\n",
    "%matplotlib inline\n",
    "\n",
    "from sklearn.model_selection import train_test_split\n",
    "from sklearn.preprocessing import MinMaxScaler\n",
    "\n",
    "from sklearn.linear_model import Ridge\n",
    "from sklearn.linear_model import Lasso\n",
    "from sklearn.model_selection import GridSearchCV\n",
    "from sklearn import linear_model\n",
    "\n",
    "from sklearn.metrics import r2_score\n",
    "\n",
    "from sklearn.decomposition import IncrementalPCA\n",
    "from sklearn.decomposition import PCA\n",
    "from sklearn.metrics import accuracy_score,confusion_matrix,classification_report,roc_auc_score,precision_score,recall_score,f1_score\n",
    "from sklearn.model_selection import GridSearchCV,StratifiedKFold,RandomizedSearchCV\n",
    "\n",
    "from sklearn.tree import DecisionTreeRegressor\n",
    "\n",
    "import xgboost\n",
    "\n",
    "from sklearn import metrics\n",
    "\n",
    "from tensorflow.keras.models import Sequential\n",
    "from tensorflow.keras.layers import Input, Dense, Activation, Dropout\n",
    "from tensorflow.keras.optimizers import Adam"
   ]
  },
  {
   "cell_type": "code",
   "execution_count": 2,
   "metadata": {},
   "outputs": [],
   "source": [
    "df = pd.read_excel('Corrosion data.xlsx')"
   ]
  },
  {
   "cell_type": "code",
   "execution_count": 3,
   "metadata": {},
   "outputs": [
    {
     "data": {
      "text/html": [
       "<div>\n",
       "<style scoped>\n",
       "    .dataframe tbody tr th:only-of-type {\n",
       "        vertical-align: middle;\n",
       "    }\n",
       "\n",
       "    .dataframe tbody tr th {\n",
       "        vertical-align: top;\n",
       "    }\n",
       "\n",
       "    .dataframe thead th {\n",
       "        text-align: right;\n",
       "    }\n",
       "</style>\n",
       "<table border=\"1\" class=\"dataframe\">\n",
       "  <thead>\n",
       "    <tr style=\"text-align: right;\">\n",
       "      <th></th>\n",
       "      <th>Unnamed: 0</th>\n",
       "      <th>Temp©</th>\n",
       "      <th>TOW(%)</th>\n",
       "      <th>SO2 (microgm/m^3)</th>\n",
       "      <th>Cl-(mg/m^2/day)</th>\n",
       "      <th>Exposure Time (Years)</th>\n",
       "      <th>Corrosion depth in steel (mm)</th>\n",
       "    </tr>\n",
       "  </thead>\n",
       "  <tbody>\n",
       "    <tr>\n",
       "      <td>0</td>\n",
       "      <td>1</td>\n",
       "      <td>13.34</td>\n",
       "      <td>0.16</td>\n",
       "      <td>65</td>\n",
       "      <td>182.0</td>\n",
       "      <td>3.0</td>\n",
       "      <td>88.7</td>\n",
       "    </tr>\n",
       "    <tr>\n",
       "      <td>1</td>\n",
       "      <td>2</td>\n",
       "      <td>13.34</td>\n",
       "      <td>0.16</td>\n",
       "      <td>65</td>\n",
       "      <td>182.0</td>\n",
       "      <td>2.0</td>\n",
       "      <td>79.2</td>\n",
       "    </tr>\n",
       "    <tr>\n",
       "      <td>2</td>\n",
       "      <td>3</td>\n",
       "      <td>13.34</td>\n",
       "      <td>0.16</td>\n",
       "      <td>26</td>\n",
       "      <td>182.0</td>\n",
       "      <td>3.0</td>\n",
       "      <td>95.1</td>\n",
       "    </tr>\n",
       "    <tr>\n",
       "      <td>3</td>\n",
       "      <td>4</td>\n",
       "      <td>13.34</td>\n",
       "      <td>0.16</td>\n",
       "      <td>26</td>\n",
       "      <td>182.0</td>\n",
       "      <td>2.0</td>\n",
       "      <td>81.0</td>\n",
       "    </tr>\n",
       "    <tr>\n",
       "      <td>4</td>\n",
       "      <td>5</td>\n",
       "      <td>13.34</td>\n",
       "      <td>0.16</td>\n",
       "      <td>26</td>\n",
       "      <td>182.0</td>\n",
       "      <td>1.0</td>\n",
       "      <td>48.1</td>\n",
       "    </tr>\n",
       "  </tbody>\n",
       "</table>\n",
       "</div>"
      ],
      "text/plain": [
       "   Unnamed: 0  Temp©  TOW(%)  SO2 (microgm/m^3)  Cl-(mg/m^2/day)  \\\n",
       "0           1  13.34    0.16                 65            182.0   \n",
       "1           2  13.34    0.16                 65            182.0   \n",
       "2           3  13.34    0.16                 26            182.0   \n",
       "3           4  13.34    0.16                 26            182.0   \n",
       "4           5  13.34    0.16                 26            182.0   \n",
       "\n",
       "   Exposure Time (Years)  Corrosion depth in steel (mm)  \n",
       "0                    3.0                           88.7  \n",
       "1                    2.0                           79.2  \n",
       "2                    3.0                           95.1  \n",
       "3                    2.0                           81.0  \n",
       "4                    1.0                           48.1  "
      ]
     },
     "execution_count": 3,
     "metadata": {},
     "output_type": "execute_result"
    }
   ],
   "source": [
    "df.head()"
   ]
  },
  {
   "cell_type": "code",
   "execution_count": 4,
   "metadata": {},
   "outputs": [
    {
     "name": "stdout",
     "output_type": "stream",
     "text": [
      "<class 'pandas.core.frame.DataFrame'>\n",
      "RangeIndex: 304 entries, 0 to 303\n",
      "Data columns (total 7 columns):\n",
      "Unnamed: 0                       304 non-null int64\n",
      "Temp©                            304 non-null float64\n",
      "TOW(%)                           304 non-null float64\n",
      "SO2 (microgm/m^3)                304 non-null int64\n",
      "Cl-(mg/m^2/day)                  304 non-null float64\n",
      "Exposure Time (Years)            304 non-null float64\n",
      "Corrosion depth in steel (mm)    304 non-null float64\n",
      "dtypes: float64(5), int64(2)\n",
      "memory usage: 16.8 KB\n"
     ]
    }
   ],
   "source": [
    "df.info()"
   ]
  },
  {
   "cell_type": "code",
   "execution_count": 5,
   "metadata": {},
   "outputs": [],
   "source": [
    "df = df.drop(df.columns[0], axis=1)\n",
    "df = df.rename(columns = {\"Temp©\":\"temp\",\"TOW(%)\":\"time of wetness\"}, inplace = False)"
   ]
  },
  {
   "cell_type": "code",
   "execution_count": 6,
   "metadata": {},
   "outputs": [
    {
     "data": {
      "text/html": [
       "<div>\n",
       "<style scoped>\n",
       "    .dataframe tbody tr th:only-of-type {\n",
       "        vertical-align: middle;\n",
       "    }\n",
       "\n",
       "    .dataframe tbody tr th {\n",
       "        vertical-align: top;\n",
       "    }\n",
       "\n",
       "    .dataframe thead th {\n",
       "        text-align: right;\n",
       "    }\n",
       "</style>\n",
       "<table border=\"1\" class=\"dataframe\">\n",
       "  <thead>\n",
       "    <tr style=\"text-align: right;\">\n",
       "      <th></th>\n",
       "      <th>temp</th>\n",
       "      <th>time of wetness</th>\n",
       "      <th>SO2 (microgm/m^3)</th>\n",
       "      <th>Cl-(mg/m^2/day)</th>\n",
       "      <th>Exposure Time (Years)</th>\n",
       "      <th>Corrosion depth in steel (mm)</th>\n",
       "    </tr>\n",
       "  </thead>\n",
       "  <tbody>\n",
       "    <tr>\n",
       "      <td>count</td>\n",
       "      <td>304.000000</td>\n",
       "      <td>304.000000</td>\n",
       "      <td>304.000000</td>\n",
       "      <td>304.000000</td>\n",
       "      <td>304.000000</td>\n",
       "      <td>304.000000</td>\n",
       "    </tr>\n",
       "    <tr>\n",
       "      <td>mean</td>\n",
       "      <td>10.737105</td>\n",
       "      <td>0.416569</td>\n",
       "      <td>30.009868</td>\n",
       "      <td>28.403586</td>\n",
       "      <td>3.218750</td>\n",
       "      <td>78.134211</td>\n",
       "    </tr>\n",
       "    <tr>\n",
       "      <td>std</td>\n",
       "      <td>6.381478</td>\n",
       "      <td>0.133032</td>\n",
       "      <td>32.700409</td>\n",
       "      <td>38.775464</td>\n",
       "      <td>2.577001</td>\n",
       "      <td>71.028911</td>\n",
       "    </tr>\n",
       "    <tr>\n",
       "      <td>min</td>\n",
       "      <td>0.310000</td>\n",
       "      <td>0.100000</td>\n",
       "      <td>2.000000</td>\n",
       "      <td>0.160000</td>\n",
       "      <td>0.500000</td>\n",
       "      <td>1.600000</td>\n",
       "    </tr>\n",
       "    <tr>\n",
       "      <td>25%</td>\n",
       "      <td>6.060000</td>\n",
       "      <td>0.360000</td>\n",
       "      <td>6.000000</td>\n",
       "      <td>5.000000</td>\n",
       "      <td>1.000000</td>\n",
       "      <td>33.550000</td>\n",
       "    </tr>\n",
       "    <tr>\n",
       "      <td>50%</td>\n",
       "      <td>7.580000</td>\n",
       "      <td>0.400000</td>\n",
       "      <td>20.000000</td>\n",
       "      <td>17.000000</td>\n",
       "      <td>2.000000</td>\n",
       "      <td>55.350000</td>\n",
       "    </tr>\n",
       "    <tr>\n",
       "      <td>75%</td>\n",
       "      <td>13.340000</td>\n",
       "      <td>0.480000</td>\n",
       "      <td>35.000000</td>\n",
       "      <td>31.000000</td>\n",
       "      <td>4.000000</td>\n",
       "      <td>95.100000</td>\n",
       "    </tr>\n",
       "    <tr>\n",
       "      <td>max</td>\n",
       "      <td>27.880000</td>\n",
       "      <td>0.950000</td>\n",
       "      <td>140.000000</td>\n",
       "      <td>182.000000</td>\n",
       "      <td>12.000000</td>\n",
       "      <td>411.100000</td>\n",
       "    </tr>\n",
       "  </tbody>\n",
       "</table>\n",
       "</div>"
      ],
      "text/plain": [
       "             temp  time of wetness  SO2 (microgm/m^3)  Cl-(mg/m^2/day)  \\\n",
       "count  304.000000       304.000000         304.000000       304.000000   \n",
       "mean    10.737105         0.416569          30.009868        28.403586   \n",
       "std      6.381478         0.133032          32.700409        38.775464   \n",
       "min      0.310000         0.100000           2.000000         0.160000   \n",
       "25%      6.060000         0.360000           6.000000         5.000000   \n",
       "50%      7.580000         0.400000          20.000000        17.000000   \n",
       "75%     13.340000         0.480000          35.000000        31.000000   \n",
       "max     27.880000         0.950000         140.000000       182.000000   \n",
       "\n",
       "       Exposure Time (Years)  Corrosion depth in steel (mm)  \n",
       "count             304.000000                     304.000000  \n",
       "mean                3.218750                      78.134211  \n",
       "std                 2.577001                      71.028911  \n",
       "min                 0.500000                       1.600000  \n",
       "25%                 1.000000                      33.550000  \n",
       "50%                 2.000000                      55.350000  \n",
       "75%                 4.000000                      95.100000  \n",
       "max                12.000000                     411.100000  "
      ]
     },
     "execution_count": 6,
     "metadata": {},
     "output_type": "execute_result"
    }
   ],
   "source": [
    "df.describe()"
   ]
  },
  {
   "cell_type": "markdown",
   "metadata": {},
   "source": [
    "## EDA for checking correlations and distibution"
   ]
  },
  {
   "cell_type": "code",
   "execution_count": 7,
   "metadata": {},
   "outputs": [
    {
     "data": {
      "text/plain": [
       "<matplotlib.collections.PathCollection at 0x7f948d1b7f50>"
      ]
     },
     "execution_count": 7,
     "metadata": {},
     "output_type": "execute_result"
    },
    {
     "data": {
      "image/png": "[encoded data removed]",
      "text/plain": [
       "<Figure size 1152x576 with 6 Axes>"
      ]
     },
     "metadata": {
      "needs_background": "light"
     },
     "output_type": "display_data"
    }
   ],
   "source": [
    "plt.figure(figsize=(16,8))\n",
    "plt.subplot(2,3,1)\n",
    "plt.scatter(df.temp,df[\"Corrosion depth in steel (mm)\"])\n",
    "plt.subplot(2,3,2)\n",
    "plt.scatter(df[\"time of wetness\"],df[\"Corrosion depth in steel (mm)\"])\n",
    "plt.subplot(2,3,3)\n",
    "plt.scatter(df[\"SO2 (microgm/m^3)\"],df[\"Corrosion depth in steel (mm)\"])\n",
    "plt.subplot(2,3,4)\n",
    "plt.scatter(df[\"Cl-(mg/m^2/day)\"],df[\"Corrosion depth in steel (mm)\"])\n",
    "plt.subplot(2,3,5)\n",
    "plt.scatter(df[\"Exposure Time (Years)\"],df[\"Corrosion depth in steel (mm)\"])\n",
    "plt.subplot(2,3,6)\n",
    "plt.scatter(df[\"Corrosion depth in steel (mm)\"],df[\"Corrosion depth in steel (mm)\"])"
   ]
  },
  {
   "cell_type": "code",
   "execution_count": 8,
   "metadata": {},
   "outputs": [
    {
     "data": {
      "image/png": "[encoded data removed]",
      "text/plain": [
       "<Figure size 432x432 with 2 Axes>"
      ]
     },
     "metadata": {
      "needs_background": "light"
     },
     "output_type": "display_data"
    }
   ],
   "source": [
    "plt.figure(figsize=(6,6))\n",
    "ax = sns.heatmap(df.corr(),annot=True)\n",
    "bottom, top = ax.get_ylim()\n",
    "ax.set_ylim(bottom + 0.5, top - 0.5)\n",
    "plt.show()"
   ]
  },
  {
   "cell_type": "code",
   "execution_count": 9,
   "metadata": {},
   "outputs": [
    {
     "data": {
      "image/png": "[encoded data removed]",
      "text/plain": [
       "<Figure size 576x432 with 1 Axes>"
      ]
     },
     "metadata": {
      "needs_background": "light"
     },
     "output_type": "display_data"
    }
   ],
   "source": [
    "plt.figure(figsize=(8,6))\n",
    "sns.distplot(df[\"Corrosion depth in steel (mm)\"])\n",
    "plt.show()"
   ]
  },
  {
   "cell_type": "code",
   "execution_count": 10,
   "metadata": {},
   "outputs": [
    {
     "data": {
      "text/plain": [
       "<matplotlib.axes._subplots.AxesSubplot at 0x7f948d7c0290>"
      ]
     },
     "execution_count": 10,
     "metadata": {},
     "output_type": "execute_result"
    },
    {
     "data": {
      "image/png": "[encoded data removed]",
      "text/plain": [
       "<Figure size 432x288 with 1 Axes>"
      ]
     },
     "metadata": {
      "needs_background": "light"
     },
     "output_type": "display_data"
    }
   ],
   "source": [
    "sns.distplot(np.log(df[\"Corrosion depth in steel (mm)\"]))"
   ]
  },
  {
   "cell_type": "markdown",
   "metadata": {},
   "source": [
    "## Data Preparation"
   ]
  },
  {
   "cell_type": "code",
   "execution_count": 11,
   "metadata": {},
   "outputs": [],
   "source": [
    "def cap_outliers(array, k=3):\n",
    "    upper_limit = array.mean() + k*array.std()\n",
    "    lower_limit = array.mean() - k*array.std()\n",
    "    array[array<lower_limit] = lower_limit\n",
    "    array[array>upper_limit] = upper_limit\n",
    "    return array"
   ]
  },
  {
   "cell_type": "code",
   "execution_count": 12,
   "metadata": {},
   "outputs": [
    {
     "name": "stderr",
     "output_type": "stream",
     "text": [
      "/opt/anaconda3/lib/python3.7/site-packages/ipykernel_launcher.py:4: SettingWithCopyWarning: \n",
      "A value is trying to be set on a copy of a slice from a DataFrame\n",
      "\n",
      "See the caveats in the documentation: http://pandas.pydata.org/pandas-docs/stable/user_guide/indexing.html#returning-a-view-versus-a-copy\n",
      "  after removing the cwd from sys.path.\n",
      "/opt/anaconda3/lib/python3.7/site-packages/ipykernel_launcher.py:5: SettingWithCopyWarning: \n",
      "A value is trying to be set on a copy of a slice from a DataFrame\n",
      "\n",
      "See the caveats in the documentation: http://pandas.pydata.org/pandas-docs/stable/user_guide/indexing.html#returning-a-view-versus-a-copy\n",
      "  \"\"\"\n"
     ]
    }
   ],
   "source": [
    "df = df.apply(cap_outliers, axis=0)"
   ]
  },
  {
   "cell_type": "code",
   "execution_count": 13,
   "metadata": {},
   "outputs": [
    {
     "data": {
      "text/html": [
       "<div>\n",
       "<style scoped>\n",
       "    .dataframe tbody tr th:only-of-type {\n",
       "        vertical-align: middle;\n",
       "    }\n",
       "\n",
       "    .dataframe tbody tr th {\n",
       "        vertical-align: top;\n",
       "    }\n",
       "\n",
       "    .dataframe thead th {\n",
       "        text-align: right;\n",
       "    }\n",
       "</style>\n",
       "<table border=\"1\" class=\"dataframe\">\n",
       "  <thead>\n",
       "    <tr style=\"text-align: right;\">\n",
       "      <th></th>\n",
       "      <th>temp</th>\n",
       "      <th>time of wetness</th>\n",
       "      <th>SO2 (microgm/m^3)</th>\n",
       "      <th>Cl-(mg/m^2/day)</th>\n",
       "      <th>Exposure Time (Years)</th>\n",
       "      <th>Corrosion depth in steel (mm)</th>\n",
       "    </tr>\n",
       "  </thead>\n",
       "  <tbody>\n",
       "    <tr>\n",
       "      <td>0</td>\n",
       "      <td>13.34</td>\n",
       "      <td>0.16</td>\n",
       "      <td>65.0</td>\n",
       "      <td>144.729977</td>\n",
       "      <td>3.0</td>\n",
       "      <td>88.7</td>\n",
       "    </tr>\n",
       "    <tr>\n",
       "      <td>1</td>\n",
       "      <td>13.34</td>\n",
       "      <td>0.16</td>\n",
       "      <td>65.0</td>\n",
       "      <td>144.729977</td>\n",
       "      <td>2.0</td>\n",
       "      <td>79.2</td>\n",
       "    </tr>\n",
       "    <tr>\n",
       "      <td>2</td>\n",
       "      <td>13.34</td>\n",
       "      <td>0.16</td>\n",
       "      <td>26.0</td>\n",
       "      <td>144.729977</td>\n",
       "      <td>3.0</td>\n",
       "      <td>95.1</td>\n",
       "    </tr>\n",
       "    <tr>\n",
       "      <td>3</td>\n",
       "      <td>13.34</td>\n",
       "      <td>0.16</td>\n",
       "      <td>26.0</td>\n",
       "      <td>144.729977</td>\n",
       "      <td>2.0</td>\n",
       "      <td>81.0</td>\n",
       "    </tr>\n",
       "    <tr>\n",
       "      <td>4</td>\n",
       "      <td>13.34</td>\n",
       "      <td>0.16</td>\n",
       "      <td>26.0</td>\n",
       "      <td>144.729977</td>\n",
       "      <td>1.0</td>\n",
       "      <td>48.1</td>\n",
       "    </tr>\n",
       "    <tr>\n",
       "      <td>...</td>\n",
       "      <td>...</td>\n",
       "      <td>...</td>\n",
       "      <td>...</td>\n",
       "      <td>...</td>\n",
       "      <td>...</td>\n",
       "      <td>...</td>\n",
       "    </tr>\n",
       "    <tr>\n",
       "      <td>299</td>\n",
       "      <td>17.88</td>\n",
       "      <td>0.66</td>\n",
       "      <td>81.0</td>\n",
       "      <td>0.800000</td>\n",
       "      <td>4.0</td>\n",
       "      <td>200.3</td>\n",
       "    </tr>\n",
       "    <tr>\n",
       "      <td>300</td>\n",
       "      <td>5.15</td>\n",
       "      <td>0.39</td>\n",
       "      <td>5.0</td>\n",
       "      <td>0.700000</td>\n",
       "      <td>2.0</td>\n",
       "      <td>26.0</td>\n",
       "    </tr>\n",
       "    <tr>\n",
       "      <td>301</td>\n",
       "      <td>5.15</td>\n",
       "      <td>0.37</td>\n",
       "      <td>116.0</td>\n",
       "      <td>0.620000</td>\n",
       "      <td>5.0</td>\n",
       "      <td>55.9</td>\n",
       "    </tr>\n",
       "    <tr>\n",
       "      <td>302</td>\n",
       "      <td>5.15</td>\n",
       "      <td>0.37</td>\n",
       "      <td>116.0</td>\n",
       "      <td>0.620000</td>\n",
       "      <td>0.5</td>\n",
       "      <td>21.0</td>\n",
       "    </tr>\n",
       "    <tr>\n",
       "      <td>303</td>\n",
       "      <td>1.21</td>\n",
       "      <td>0.18</td>\n",
       "      <td>5.0</td>\n",
       "      <td>0.300000</td>\n",
       "      <td>2.0</td>\n",
       "      <td>8.0</td>\n",
       "    </tr>\n",
       "  </tbody>\n",
       "</table>\n",
       "<p>304 rows × 6 columns</p>\n",
       "</div>"
      ],
      "text/plain": [
       "      temp  time of wetness  SO2 (microgm/m^3)  Cl-(mg/m^2/day)  \\\n",
       "0    13.34             0.16               65.0       144.729977   \n",
       "1    13.34             0.16               65.0       144.729977   \n",
       "2    13.34             0.16               26.0       144.729977   \n",
       "3    13.34             0.16               26.0       144.729977   \n",
       "4    13.34             0.16               26.0       144.729977   \n",
       "..     ...              ...                ...              ...   \n",
       "299  17.88             0.66               81.0         0.800000   \n",
       "300   5.15             0.39                5.0         0.700000   \n",
       "301   5.15             0.37              116.0         0.620000   \n",
       "302   5.15             0.37              116.0         0.620000   \n",
       "303   1.21             0.18                5.0         0.300000   \n",
       "\n",
       "     Exposure Time (Years)  Corrosion depth in steel (mm)  \n",
       "0                      3.0                           88.7  \n",
       "1                      2.0                           79.2  \n",
       "2                      3.0                           95.1  \n",
       "3                      2.0                           81.0  \n",
       "4                      1.0                           48.1  \n",
       "..                     ...                            ...  \n",
       "299                    4.0                          200.3  \n",
       "300                    2.0                           26.0  \n",
       "301                    5.0                           55.9  \n",
       "302                    0.5                           21.0  \n",
       "303                    2.0                            8.0  \n",
       "\n",
       "[304 rows x 6 columns]"
      ]
     },
     "execution_count": 13,
     "metadata": {},
     "output_type": "execute_result"
    }
   ],
   "source": [
    "df"
   ]
  },
  {
   "cell_type": "code",
   "execution_count": 14,
   "metadata": {},
   "outputs": [],
   "source": [
    "df[\"Corrosion depth in steel (mm)\"] = np.log(df[\"Corrosion depth in steel (mm)\"])"
   ]
  },
  {
   "cell_type": "code",
   "execution_count": 15,
   "metadata": {},
   "outputs": [],
   "source": [
    "X = df.drop([\"Corrosion depth in steel (mm)\"], axis=1).values\n",
    "y = df[\"Corrosion depth in steel (mm)\"].values"
   ]
  },
  {
   "cell_type": "code",
   "execution_count": 16,
   "metadata": {},
   "outputs": [],
   "source": [
    "# split into train and test\n",
    "\n",
    "X_train, X_test, y_train, y_test = train_test_split(X, y,train_size=0.7,test_size = 0.3, random_state=100)"
   ]
  },
  {
   "cell_type": "code",
   "execution_count": 17,
   "metadata": {},
   "outputs": [],
   "source": [
    "scaler = MinMaxScaler()\n",
    "X_train = scaler.fit_transform(X_train)\n",
    "X_test = scaler.transform(X_test)"
   ]
  },
  {
   "cell_type": "markdown",
   "metadata": {},
   "source": [
    "## Model 2: Ridge Regression <a class=\"anchor\" id=\"Ridge-Regression\"></a>"
   ]
  },
  {
   "cell_type": "code",
   "execution_count": 18,
   "metadata": {},
   "outputs": [],
   "source": [
    "# list of alphas to tune\n",
    "params = {'alpha': [0.0001, 0.001, 0.01, 0.05, 0.1, \n",
    " 0.2, 0.3, 0.4, 0.5, 0.6, 0.7, 0.8, 0.9, 1.0, 2.0, 3.0, \n",
    " 4.0, 5.0, 6.0, 7.0, 8.0, 9.0, 10.0, 20, 50, 100, 500, 1000 ]}"
   ]
  },
  {
   "cell_type": "code",
   "execution_count": 19,
   "metadata": {},
   "outputs": [
    {
     "name": "stderr",
     "output_type": "stream",
     "text": [
      "[Parallel(n_jobs=1)]: Using backend SequentialBackend with 1 concurrent workers.\n"
     ]
    },
    {
     "name": "stdout",
     "output_type": "stream",
     "text": [
      "Fitting 5 folds for each of 28 candidates, totalling 140 fits\n"
     ]
    },
    {
     "name": "stderr",
     "output_type": "stream",
     "text": [
      "[Parallel(n_jobs=1)]: Done 140 out of 140 | elapsed:    0.2s finished\n"
     ]
    },
    {
     "data": {
      "text/plain": [
       "GridSearchCV(cv=5, error_score=nan,\n",
       "             estimator=Ridge(alpha=1.0, copy_X=True, fit_intercept=True,\n",
       "                             max_iter=None, normalize=False, random_state=None,\n",
       "                             solver='auto', tol=0.001),\n",
       "             iid='deprecated', n_jobs=None,\n",
       "             param_grid={'alpha': [0.0001, 0.001, 0.01, 0.05, 0.1, 0.2, 0.3,\n",
       "                                   0.4, 0.5, 0.6, 0.7, 0.8, 0.9, 1.0, 2.0, 3.0,\n",
       "                                   4.0, 5.0, 6.0, 7.0, 8.0, 9.0, 10.0, 20, 50,\n",
       "                                   100, 500, 1000]},\n",
       "             pre_dispatch='2*n_jobs', refit=True, return_train_score=True,\n",
       "             scoring='neg_mean_absolute_error', verbose=1)"
      ]
     },
     "execution_count": 19,
     "metadata": {},
     "output_type": "execute_result"
    }
   ],
   "source": [
    "# Applying Ridge\n",
    "ridge = Ridge()\n",
    "\n",
    "# cross validation\n",
    "folds = 5\n",
    "model_cv = GridSearchCV(estimator = ridge, \n",
    "                        param_grid = params, \n",
    "                        scoring= 'neg_mean_absolute_error', \n",
    "                        cv = folds, \n",
    "                        return_train_score=True,\n",
    "                        verbose = 1)            \n",
    "model_cv.fit(X_train, y_train) "
   ]
  },
  {
   "cell_type": "code",
   "execution_count": 20,
   "metadata": {},
   "outputs": [
    {
     "data": {
      "text/html": [
       "<div>\n",
       "<style scoped>\n",
       "    .dataframe tbody tr th:only-of-type {\n",
       "        vertical-align: middle;\n",
       "    }\n",
       "\n",
       "    .dataframe tbody tr th {\n",
       "        vertical-align: top;\n",
       "    }\n",
       "\n",
       "    .dataframe thead th {\n",
       "        text-align: right;\n",
       "    }\n",
       "</style>\n",
       "<table border=\"1\" class=\"dataframe\">\n",
       "  <thead>\n",
       "    <tr style=\"text-align: right;\">\n",
       "      <th></th>\n",
       "      <th>mean_fit_time</th>\n",
       "      <th>std_fit_time</th>\n",
       "      <th>mean_score_time</th>\n",
       "      <th>std_score_time</th>\n",
       "      <th>param_alpha</th>\n",
       "      <th>params</th>\n",
       "      <th>split0_test_score</th>\n",
       "      <th>split1_test_score</th>\n",
       "      <th>split2_test_score</th>\n",
       "      <th>split3_test_score</th>\n",
       "      <th>...</th>\n",
       "      <th>mean_test_score</th>\n",
       "      <th>std_test_score</th>\n",
       "      <th>rank_test_score</th>\n",
       "      <th>split0_train_score</th>\n",
       "      <th>split1_train_score</th>\n",
       "      <th>split2_train_score</th>\n",
       "      <th>split3_train_score</th>\n",
       "      <th>split4_train_score</th>\n",
       "      <th>mean_train_score</th>\n",
       "      <th>std_train_score</th>\n",
       "    </tr>\n",
       "  </thead>\n",
       "  <tbody>\n",
       "    <tr>\n",
       "      <td>0</td>\n",
       "      <td>0.003661</td>\n",
       "      <td>0.006162</td>\n",
       "      <td>0.000328</td>\n",
       "      <td>0.000081</td>\n",
       "      <td>0.0001</td>\n",
       "      <td>{'alpha': 0.0001}</td>\n",
       "      <td>-0.314895</td>\n",
       "      <td>-0.298309</td>\n",
       "      <td>-0.488021</td>\n",
       "      <td>-0.384987</td>\n",
       "      <td>...</td>\n",
       "      <td>-0.369493</td>\n",
       "      <td>0.066940</td>\n",
       "      <td>14</td>\n",
       "      <td>-0.371040</td>\n",
       "      <td>-0.378662</td>\n",
       "      <td>-0.315839</td>\n",
       "      <td>-0.354638</td>\n",
       "      <td>-0.348530</td>\n",
       "      <td>-0.353742</td>\n",
       "      <td>0.021839</td>\n",
       "    </tr>\n",
       "    <tr>\n",
       "      <td>1</td>\n",
       "      <td>0.000433</td>\n",
       "      <td>0.000014</td>\n",
       "      <td>0.000260</td>\n",
       "      <td>0.000006</td>\n",
       "      <td>0.001</td>\n",
       "      <td>{'alpha': 0.001}</td>\n",
       "      <td>-0.314896</td>\n",
       "      <td>-0.298301</td>\n",
       "      <td>-0.488020</td>\n",
       "      <td>-0.384987</td>\n",
       "      <td>...</td>\n",
       "      <td>-0.369489</td>\n",
       "      <td>0.066942</td>\n",
       "      <td>13</td>\n",
       "      <td>-0.371036</td>\n",
       "      <td>-0.378659</td>\n",
       "      <td>-0.315834</td>\n",
       "      <td>-0.354636</td>\n",
       "      <td>-0.348530</td>\n",
       "      <td>-0.353739</td>\n",
       "      <td>0.021840</td>\n",
       "    </tr>\n",
       "    <tr>\n",
       "      <td>2</td>\n",
       "      <td>0.000444</td>\n",
       "      <td>0.000039</td>\n",
       "      <td>0.000255</td>\n",
       "      <td>0.000010</td>\n",
       "      <td>0.01</td>\n",
       "      <td>{'alpha': 0.01}</td>\n",
       "      <td>-0.314906</td>\n",
       "      <td>-0.298218</td>\n",
       "      <td>-0.488015</td>\n",
       "      <td>-0.384989</td>\n",
       "      <td>...</td>\n",
       "      <td>-0.369450</td>\n",
       "      <td>0.066959</td>\n",
       "      <td>12</td>\n",
       "      <td>-0.370994</td>\n",
       "      <td>-0.378630</td>\n",
       "      <td>-0.315790</td>\n",
       "      <td>-0.354612</td>\n",
       "      <td>-0.348528</td>\n",
       "      <td>-0.353711</td>\n",
       "      <td>0.021842</td>\n",
       "    </tr>\n",
       "    <tr>\n",
       "      <td>3</td>\n",
       "      <td>0.000397</td>\n",
       "      <td>0.000029</td>\n",
       "      <td>0.000233</td>\n",
       "      <td>0.000017</td>\n",
       "      <td>0.05</td>\n",
       "      <td>{'alpha': 0.05}</td>\n",
       "      <td>-0.314949</td>\n",
       "      <td>-0.297854</td>\n",
       "      <td>-0.487992</td>\n",
       "      <td>-0.385000</td>\n",
       "      <td>...</td>\n",
       "      <td>-0.369278</td>\n",
       "      <td>0.067035</td>\n",
       "      <td>11</td>\n",
       "      <td>-0.370849</td>\n",
       "      <td>-0.378524</td>\n",
       "      <td>-0.315613</td>\n",
       "      <td>-0.354508</td>\n",
       "      <td>-0.348521</td>\n",
       "      <td>-0.353603</td>\n",
       "      <td>0.021856</td>\n",
       "    </tr>\n",
       "    <tr>\n",
       "      <td>4</td>\n",
       "      <td>0.000358</td>\n",
       "      <td>0.000013</td>\n",
       "      <td>0.000214</td>\n",
       "      <td>0.000002</td>\n",
       "      <td>0.1</td>\n",
       "      <td>{'alpha': 0.1}</td>\n",
       "      <td>-0.315002</td>\n",
       "      <td>-0.297402</td>\n",
       "      <td>-0.487964</td>\n",
       "      <td>-0.385013</td>\n",
       "      <td>...</td>\n",
       "      <td>-0.369065</td>\n",
       "      <td>0.067131</td>\n",
       "      <td>10</td>\n",
       "      <td>-0.370692</td>\n",
       "      <td>-0.378410</td>\n",
       "      <td>-0.315424</td>\n",
       "      <td>-0.354390</td>\n",
       "      <td>-0.348533</td>\n",
       "      <td>-0.353490</td>\n",
       "      <td>0.021869</td>\n",
       "    </tr>\n",
       "  </tbody>\n",
       "</table>\n",
       "<p>5 rows × 21 columns</p>\n",
       "</div>"
      ],
      "text/plain": [
       "   mean_fit_time  std_fit_time  mean_score_time  std_score_time param_alpha  \\\n",
       "0       0.003661      0.006162         0.000328        0.000081      0.0001   \n",
       "1       0.000433      0.000014         0.000260        0.000006       0.001   \n",
       "2       0.000444      0.000039         0.000255        0.000010        0.01   \n",
       "3       0.000397      0.000029         0.000233        0.000017        0.05   \n",
       "4       0.000358      0.000013         0.000214        0.000002         0.1   \n",
       "\n",
       "              params  split0_test_score  split1_test_score  split2_test_score  \\\n",
       "0  {'alpha': 0.0001}          -0.314895          -0.298309          -0.488021   \n",
       "1   {'alpha': 0.001}          -0.314896          -0.298301          -0.488020   \n",
       "2    {'alpha': 0.01}          -0.314906          -0.298218          -0.488015   \n",
       "3    {'alpha': 0.05}          -0.314949          -0.297854          -0.487992   \n",
       "4     {'alpha': 0.1}          -0.315002          -0.297402          -0.487964   \n",
       "\n",
       "   split3_test_score  ...  mean_test_score  std_test_score  rank_test_score  \\\n",
       "0          -0.384987  ...        -0.369493        0.066940               14   \n",
       "1          -0.384987  ...        -0.369489        0.066942               13   \n",
       "2          -0.384989  ...        -0.369450        0.066959               12   \n",
       "3          -0.385000  ...        -0.369278        0.067035               11   \n",
       "4          -0.385013  ...        -0.369065        0.067131               10   \n",
       "\n",
       "   split0_train_score  split1_train_score  split2_train_score  \\\n",
       "0           -0.371040           -0.378662           -0.315839   \n",
       "1           -0.371036           -0.378659           -0.315834   \n",
       "2           -0.370994           -0.378630           -0.315790   \n",
       "3           -0.370849           -0.378524           -0.315613   \n",
       "4           -0.370692           -0.378410           -0.315424   \n",
       "\n",
       "   split3_train_score  split4_train_score  mean_train_score  std_train_score  \n",
       "0           -0.354638           -0.348530         -0.353742         0.021839  \n",
       "1           -0.354636           -0.348530         -0.353739         0.021840  \n",
       "2           -0.354612           -0.348528         -0.353711         0.021842  \n",
       "3           -0.354508           -0.348521         -0.353603         0.021856  \n",
       "4           -0.354390           -0.348533         -0.353490         0.021869  \n",
       "\n",
       "[5 rows x 21 columns]"
      ]
     },
     "execution_count": 20,
     "metadata": {},
     "output_type": "execute_result"
    }
   ],
   "source": [
    "cv_results = pd.DataFrame(model_cv.cv_results_)\n",
    "cv_results = cv_results[cv_results['param_alpha']<=200]\n",
    "cv_results.head()"
   ]
  },
  {
   "cell_type": "code",
   "execution_count": 21,
   "metadata": {},
   "outputs": [
    {
     "data": {
      "image/png": "[encoded data removed]",
      "text/plain": [
       "<Figure size 432x288 with 1 Axes>"
      ]
     },
     "metadata": {
      "needs_background": "light"
     },
     "output_type": "display_data"
    }
   ],
   "source": [
    "# plotting mean test and train scoes with alpha \n",
    "cv_results['param_alpha'] = cv_results['param_alpha'].astype('int32')\n",
    "\n",
    "# plotting\n",
    "plt.plot(cv_results['param_alpha'], cv_results['mean_train_score'])\n",
    "plt.plot(cv_results['param_alpha'], cv_results['mean_test_score'])\n",
    "plt.xlabel('alpha')\n",
    "plt.ylabel('Negative Mean Absolute Error')\n",
    "plt.title(\"Negative Mean Absolute Error and alpha\")\n",
    "plt.legend(['train score', 'test score'], loc='upper left')\n",
    "plt.show()"
   ]
  },
  {
   "cell_type": "code",
   "execution_count": 22,
   "metadata": {},
   "outputs": [
    {
     "data": {
      "text/plain": [
       "{'alpha': 0.7}"
      ]
     },
     "execution_count": 22,
     "metadata": {},
     "output_type": "execute_result"
    }
   ],
   "source": [
    "model_cv.best_params_"
   ]
  },
  {
   "cell_type": "code",
   "execution_count": 23,
   "metadata": {},
   "outputs": [
    {
     "data": {
      "text/plain": [
       "array([0.50405882, 0.69684202, 1.0121902 , 0.79128112, 1.78748804])"
      ]
     },
     "execution_count": 23,
     "metadata": {},
     "output_type": "execute_result"
    }
   ],
   "source": [
    "alpha = 0.7\n",
    "ridge = Ridge(alpha=alpha)\n",
    "\n",
    "ridge.fit(X_train, y_train)\n",
    "ridge.coef_"
   ]
  },
  {
   "cell_type": "code",
   "execution_count": 24,
   "metadata": {},
   "outputs": [
    {
     "name": "stdout",
     "output_type": "stream",
     "text": [
      "0.6112023337192511\n",
      "0.5574783133596108\n"
     ]
    }
   ],
   "source": [
    "y_train_pred = ridge.predict(X_train)\n",
    "y_test_pred = ridge.predict(X_test)\n",
    "\n",
    "print(r2_score(y_true=y_train,y_pred=y_train_pred))\n",
    "print(r2_score(y_true=y_test,y_pred=y_test_pred))"
   ]
  },
  {
   "cell_type": "markdown",
   "metadata": {},
   "source": [
    "## Model 3: PCA with Ridge Regression <a class=\"anchor\" id=\"PCA-with-Ridge-Regression\"></a>"
   ]
  },
  {
   "cell_type": "code",
   "execution_count": 25,
   "metadata": {},
   "outputs": [],
   "source": [
    "## A method to perform PCA.  \n",
    "## This method can be used to identify the number of components that can explain the required variance\n",
    "def performPCA(X_train):\n",
    "    pca = PCA(random_state=42)\n",
    "    pca.fit(X_train)\n",
    "\n",
    "    var_cumu = np.cumsum(pca.explained_variance_ratio_)    \n",
    "    print(\"Cumulative explained_variance_ratio: \\n\",var_cumu)\n",
    "    print('-'*80)\n",
    "    print(\"Scree plot for the PCA\")   \n",
    "    \n",
    "    plt.figure(figsize=[12,8])\n",
    "    plt.plot(var_cumu)\n",
    "    plt.hlines(y=0.95,xmax=150,xmin=0,colors=\"g\",linestyles=\"--\")\n",
    "    plt.ylabel(\"Cumulative variance explained\")\n",
    "    plt.show()\n",
    "    print(\"-\"*80)\n",
    "    return"
   ]
  },
  {
   "cell_type": "code",
   "execution_count": 26,
   "metadata": {},
   "outputs": [],
   "source": [
    "## A Method to transform the dataset into the components that explain the required persistence\n",
    "## This method is used to transform the test and train datasets\n",
    "def buildPCA (X_train,X_test,varianceRatio):\n",
    "    pca = PCA(varianceRatio)\n",
    "    X_train_pca = pca.fit_transform(X_train)\n",
    "    X_test_pca = pca.transform(X_test)\n",
    "    return X_train_pca, X_test_pca\n",
    "    "
   ]
  },
  {
   "cell_type": "markdown",
   "metadata": {},
   "source": [
    "#### 1. PCA on actual data"
   ]
  },
  {
   "cell_type": "code",
   "execution_count": 27,
   "metadata": {},
   "outputs": [
    {
     "name": "stdout",
     "output_type": "stream",
     "text": [
      "Cumulative explained_variance_ratio: \n",
      " [0.31312131 0.56039157 0.75166005 0.91925613 1.        ]\n",
      "--------------------------------------------------------------------------------\n",
      "Scree plot for the PCA\n"
     ]
    },
    {
     "data": {
      "image/png": "[encoded data removed]",
      "text/plain": [
       "<Figure size 864x576 with 1 Axes>"
      ]
     },
     "metadata": {
      "needs_background": "light"
     },
     "output_type": "display_data"
    },
    {
     "name": "stdout",
     "output_type": "stream",
     "text": [
      "--------------------------------------------------------------------------------\n"
     ]
    }
   ],
   "source": [
    "## Perform PCA on actual data\n",
    "\n",
    "performPCA(X_train)"
   ]
  },
  {
   "cell_type": "code",
   "execution_count": 28,
   "metadata": {},
   "outputs": [],
   "source": [
    "## Build PCA on actual data\n",
    "\n",
    "X_train_pca1,X_test_pca1 = buildPCA(X_train,X_test,1)"
   ]
  },
  {
   "cell_type": "markdown",
   "metadata": {},
   "source": [
    "#### A. Ridge Regression "
   ]
  },
  {
   "cell_type": "code",
   "execution_count": 29,
   "metadata": {},
   "outputs": [
    {
     "name": "stdout",
     "output_type": "stream",
     "text": [
      "Fitting 5 folds for each of 28 candidates, totalling 140 fits\n"
     ]
    },
    {
     "name": "stderr",
     "output_type": "stream",
     "text": [
      "[Parallel(n_jobs=1)]: Using backend SequentialBackend with 1 concurrent workers.\n",
      "[Parallel(n_jobs=1)]: Done 140 out of 140 | elapsed:    0.2s finished\n"
     ]
    },
    {
     "data": {
      "text/plain": [
       "GridSearchCV(cv=5, error_score=nan,\n",
       "             estimator=Ridge(alpha=1.0, copy_X=True, fit_intercept=True,\n",
       "                             max_iter=None, normalize=False, random_state=None,\n",
       "                             solver='auto', tol=0.001),\n",
       "             iid='deprecated', n_jobs=None,\n",
       "             param_grid={'alpha': [0.0001, 0.001, 0.01, 0.05, 0.1, 0.2, 0.3,\n",
       "                                   0.4, 0.5, 0.6, 0.7, 0.8, 0.9, 1.0, 2.0, 3.0,\n",
       "                                   4.0, 5.0, 6.0, 7.0, 8.0, 9.0, 10.0, 20, 50,\n",
       "                                   100, 500, 1000]},\n",
       "             pre_dispatch='2*n_jobs', refit=True, return_train_score=True,\n",
       "             scoring='neg_mean_absolute_error', verbose=1)"
      ]
     },
     "execution_count": 29,
     "metadata": {},
     "output_type": "execute_result"
    }
   ],
   "source": [
    "# Applying Ridge\n",
    "ridge = Ridge()\n",
    "\n",
    "# cross validation\n",
    "folds = 5\n",
    "model_cv = GridSearchCV(estimator = ridge, \n",
    "                        param_grid = params, \n",
    "                        scoring= 'neg_mean_absolute_error', \n",
    "                        cv = folds, \n",
    "                        return_train_score=True,\n",
    "                        verbose = 1)            \n",
    "model_cv.fit(X_train_pca1, y_train) "
   ]
  },
  {
   "cell_type": "code",
   "execution_count": 30,
   "metadata": {},
   "outputs": [
    {
     "data": {
      "text/html": [
       "<div>\n",
       "<style scoped>\n",
       "    .dataframe tbody tr th:only-of-type {\n",
       "        vertical-align: middle;\n",
       "    }\n",
       "\n",
       "    .dataframe tbody tr th {\n",
       "        vertical-align: top;\n",
       "    }\n",
       "\n",
       "    .dataframe thead th {\n",
       "        text-align: right;\n",
       "    }\n",
       "</style>\n",
       "<table border=\"1\" class=\"dataframe\">\n",
       "  <thead>\n",
       "    <tr style=\"text-align: right;\">\n",
       "      <th></th>\n",
       "      <th>mean_fit_time</th>\n",
       "      <th>std_fit_time</th>\n",
       "      <th>mean_score_time</th>\n",
       "      <th>std_score_time</th>\n",
       "      <th>param_alpha</th>\n",
       "      <th>params</th>\n",
       "      <th>split0_test_score</th>\n",
       "      <th>split1_test_score</th>\n",
       "      <th>split2_test_score</th>\n",
       "      <th>split3_test_score</th>\n",
       "      <th>...</th>\n",
       "      <th>mean_test_score</th>\n",
       "      <th>std_test_score</th>\n",
       "      <th>rank_test_score</th>\n",
       "      <th>split0_train_score</th>\n",
       "      <th>split1_train_score</th>\n",
       "      <th>split2_train_score</th>\n",
       "      <th>split3_train_score</th>\n",
       "      <th>split4_train_score</th>\n",
       "      <th>mean_train_score</th>\n",
       "      <th>std_train_score</th>\n",
       "    </tr>\n",
       "  </thead>\n",
       "  <tbody>\n",
       "    <tr>\n",
       "      <td>0</td>\n",
       "      <td>0.000800</td>\n",
       "      <td>0.000436</td>\n",
       "      <td>0.000322</td>\n",
       "      <td>0.000041</td>\n",
       "      <td>0.0001</td>\n",
       "      <td>{'alpha': 0.0001}</td>\n",
       "      <td>-0.510517</td>\n",
       "      <td>-0.438687</td>\n",
       "      <td>-0.652030</td>\n",
       "      <td>-0.628362</td>\n",
       "      <td>...</td>\n",
       "      <td>-0.562734</td>\n",
       "      <td>0.078550</td>\n",
       "      <td>1</td>\n",
       "      <td>-0.568825</td>\n",
       "      <td>-0.586627</td>\n",
       "      <td>-0.537376</td>\n",
       "      <td>-0.537541</td>\n",
       "      <td>-0.550257</td>\n",
       "      <td>-0.556125</td>\n",
       "      <td>0.019094</td>\n",
       "    </tr>\n",
       "    <tr>\n",
       "      <td>1</td>\n",
       "      <td>0.000687</td>\n",
       "      <td>0.000061</td>\n",
       "      <td>0.000381</td>\n",
       "      <td>0.000078</td>\n",
       "      <td>0.001</td>\n",
       "      <td>{'alpha': 0.001}</td>\n",
       "      <td>-0.510517</td>\n",
       "      <td>-0.438688</td>\n",
       "      <td>-0.652039</td>\n",
       "      <td>-0.628360</td>\n",
       "      <td>...</td>\n",
       "      <td>-0.562736</td>\n",
       "      <td>0.078551</td>\n",
       "      <td>2</td>\n",
       "      <td>-0.568827</td>\n",
       "      <td>-0.586628</td>\n",
       "      <td>-0.537378</td>\n",
       "      <td>-0.537543</td>\n",
       "      <td>-0.550258</td>\n",
       "      <td>-0.556127</td>\n",
       "      <td>0.019094</td>\n",
       "    </tr>\n",
       "    <tr>\n",
       "      <td>2</td>\n",
       "      <td>0.000405</td>\n",
       "      <td>0.000065</td>\n",
       "      <td>0.000267</td>\n",
       "      <td>0.000042</td>\n",
       "      <td>0.01</td>\n",
       "      <td>{'alpha': 0.01}</td>\n",
       "      <td>-0.510509</td>\n",
       "      <td>-0.438699</td>\n",
       "      <td>-0.652130</td>\n",
       "      <td>-0.628338</td>\n",
       "      <td>...</td>\n",
       "      <td>-0.562755</td>\n",
       "      <td>0.078567</td>\n",
       "      <td>3</td>\n",
       "      <td>-0.568846</td>\n",
       "      <td>-0.586643</td>\n",
       "      <td>-0.537389</td>\n",
       "      <td>-0.537560</td>\n",
       "      <td>-0.550270</td>\n",
       "      <td>-0.556142</td>\n",
       "      <td>0.019096</td>\n",
       "    </tr>\n",
       "    <tr>\n",
       "      <td>3</td>\n",
       "      <td>0.000826</td>\n",
       "      <td>0.000177</td>\n",
       "      <td>0.000383</td>\n",
       "      <td>0.000093</td>\n",
       "      <td>0.05</td>\n",
       "      <td>{'alpha': 0.05}</td>\n",
       "      <td>-0.510477</td>\n",
       "      <td>-0.438747</td>\n",
       "      <td>-0.652529</td>\n",
       "      <td>-0.628243</td>\n",
       "      <td>...</td>\n",
       "      <td>-0.562840</td>\n",
       "      <td>0.078637</td>\n",
       "      <td>4</td>\n",
       "      <td>-0.568933</td>\n",
       "      <td>-0.586710</td>\n",
       "      <td>-0.537438</td>\n",
       "      <td>-0.537635</td>\n",
       "      <td>-0.550346</td>\n",
       "      <td>-0.556212</td>\n",
       "      <td>0.019099</td>\n",
       "    </tr>\n",
       "    <tr>\n",
       "      <td>4</td>\n",
       "      <td>0.000414</td>\n",
       "      <td>0.000013</td>\n",
       "      <td>0.000259</td>\n",
       "      <td>0.000007</td>\n",
       "      <td>0.1</td>\n",
       "      <td>{'alpha': 0.1}</td>\n",
       "      <td>-0.510436</td>\n",
       "      <td>-0.438806</td>\n",
       "      <td>-0.653025</td>\n",
       "      <td>-0.628125</td>\n",
       "      <td>...</td>\n",
       "      <td>-0.562944</td>\n",
       "      <td>0.078724</td>\n",
       "      <td>5</td>\n",
       "      <td>-0.569042</td>\n",
       "      <td>-0.586793</td>\n",
       "      <td>-0.537499</td>\n",
       "      <td>-0.537729</td>\n",
       "      <td>-0.550442</td>\n",
       "      <td>-0.556301</td>\n",
       "      <td>0.019104</td>\n",
       "    </tr>\n",
       "  </tbody>\n",
       "</table>\n",
       "<p>5 rows × 21 columns</p>\n",
       "</div>"
      ],
      "text/plain": [
       "   mean_fit_time  std_fit_time  mean_score_time  std_score_time param_alpha  \\\n",
       "0       0.000800      0.000436         0.000322        0.000041      0.0001   \n",
       "1       0.000687      0.000061         0.000381        0.000078       0.001   \n",
       "2       0.000405      0.000065         0.000267        0.000042        0.01   \n",
       "3       0.000826      0.000177         0.000383        0.000093        0.05   \n",
       "4       0.000414      0.000013         0.000259        0.000007         0.1   \n",
       "\n",
       "              params  split0_test_score  split1_test_score  split2_test_score  \\\n",
       "0  {'alpha': 0.0001}          -0.510517          -0.438687          -0.652030   \n",
       "1   {'alpha': 0.001}          -0.510517          -0.438688          -0.652039   \n",
       "2    {'alpha': 0.01}          -0.510509          -0.438699          -0.652130   \n",
       "3    {'alpha': 0.05}          -0.510477          -0.438747          -0.652529   \n",
       "4     {'alpha': 0.1}          -0.510436          -0.438806          -0.653025   \n",
       "\n",
       "   split3_test_score  ...  mean_test_score  std_test_score  rank_test_score  \\\n",
       "0          -0.628362  ...        -0.562734        0.078550                1   \n",
       "1          -0.628360  ...        -0.562736        0.078551                2   \n",
       "2          -0.628338  ...        -0.562755        0.078567                3   \n",
       "3          -0.628243  ...        -0.562840        0.078637                4   \n",
       "4          -0.628125  ...        -0.562944        0.078724                5   \n",
       "\n",
       "   split0_train_score  split1_train_score  split2_train_score  \\\n",
       "0           -0.568825           -0.586627           -0.537376   \n",
       "1           -0.568827           -0.586628           -0.537378   \n",
       "2           -0.568846           -0.586643           -0.537389   \n",
       "3           -0.568933           -0.586710           -0.537438   \n",
       "4           -0.569042           -0.586793           -0.537499   \n",
       "\n",
       "   split3_train_score  split4_train_score  mean_train_score  std_train_score  \n",
       "0           -0.537541           -0.550257         -0.556125         0.019094  \n",
       "1           -0.537543           -0.550258         -0.556127         0.019094  \n",
       "2           -0.537560           -0.550270         -0.556142         0.019096  \n",
       "3           -0.537635           -0.550346         -0.556212         0.019099  \n",
       "4           -0.537729           -0.550442         -0.556301         0.019104  \n",
       "\n",
       "[5 rows x 21 columns]"
      ]
     },
     "execution_count": 30,
     "metadata": {},
     "output_type": "execute_result"
    }
   ],
   "source": [
    "cv_results = pd.DataFrame(model_cv.cv_results_)\n",
    "cv_results = cv_results[cv_results['param_alpha']<=200]\n",
    "cv_results.head()"
   ]
  },
  {
   "cell_type": "code",
   "execution_count": 31,
   "metadata": {},
   "outputs": [
    {
     "data": {
      "image/png": "[encoded data removed]",
      "text/plain": [
       "<Figure size 432x288 with 1 Axes>"
      ]
     },
     "metadata": {
      "needs_background": "light"
     },
     "output_type": "display_data"
    }
   ],
   "source": [
    "# plotting mean test and train scoes with alpha \n",
    "cv_results['param_alpha'] = cv_results['param_alpha'].astype('int32')\n",
    "\n",
    "# plotting\n",
    "plt.plot(cv_results['param_alpha'], cv_results['mean_train_score'])\n",
    "plt.plot(cv_results['param_alpha'], cv_results['mean_test_score'])\n",
    "plt.xlabel('alpha')\n",
    "plt.ylabel('Negative Mean Absolute Error')\n",
    "plt.title(\"Negative Mean Absolute Error and alpha\")\n",
    "plt.legend(['train score', 'test score'], loc='upper left')\n",
    "plt.show()"
   ]
  },
  {
   "cell_type": "code",
   "execution_count": 32,
   "metadata": {},
   "outputs": [
    {
     "data": {
      "text/plain": [
       "{'alpha': 0.0001}"
      ]
     },
     "execution_count": 32,
     "metadata": {},
     "output_type": "execute_result"
    }
   ],
   "source": [
    "model_cv.best_params_"
   ]
  },
  {
   "cell_type": "code",
   "execution_count": 33,
   "metadata": {},
   "outputs": [
    {
     "data": {
      "text/plain": [
       "array([1.51428665])"
      ]
     },
     "execution_count": 33,
     "metadata": {},
     "output_type": "execute_result"
    }
   ],
   "source": [
    "alpha = 0.0001\n",
    "ridge = Ridge(alpha=alpha)\n",
    "\n",
    "ridge.fit(X_train_pca1, y_train)\n",
    "ridge.coef_"
   ]
  },
  {
   "cell_type": "code",
   "execution_count": 34,
   "metadata": {},
   "outputs": [
    {
     "name": "stdout",
     "output_type": "stream",
     "text": [
      "0.27156391194125695\n",
      "0.14588426745690475\n"
     ]
    }
   ],
   "source": [
    "y_train_pred = ridge.predict(X_train_pca1)\n",
    "y_test_pred = ridge.predict(X_test_pca1)\n",
    "\n",
    "print(r2_score(y_true=y_train,y_pred=y_train_pred))\n",
    "print(r2_score(y_true=y_test,y_pred=y_test_pred))"
   ]
  },
  {
   "cell_type": "code",
   "execution_count": 35,
   "metadata": {},
   "outputs": [],
   "source": [
    "Train2 = pd.DataFrame(y_train,y_train_pred)\n",
    "Train2.reset_index(level=0, inplace=True)\n",
    "Train2 = Train2.rename(columns = {'index': 'y train', 0: 'y train pred'}, inplace = False)"
   ]
  },
  {
   "cell_type": "code",
   "execution_count": 36,
   "metadata": {},
   "outputs": [],
   "source": [
    "Test2 = pd.DataFrame(y_test,y_test_pred)\n",
    "Test2.reset_index(level=0, inplace=True)\n",
    "Test2 = Test2.rename(columns = {'index': 'y test', 0: 'y test pred'}, inplace = False)"
   ]
  },
  {
   "cell_type": "code",
   "execution_count": 37,
   "metadata": {},
   "outputs": [
    {
     "data": {
      "text/html": [
       "<div>\n",
       "<style scoped>\n",
       "    .dataframe tbody tr th:only-of-type {\n",
       "        vertical-align: middle;\n",
       "    }\n",
       "\n",
       "    .dataframe tbody tr th {\n",
       "        vertical-align: top;\n",
       "    }\n",
       "\n",
       "    .dataframe thead th {\n",
       "        text-align: right;\n",
       "    }\n",
       "</style>\n",
       "<table border=\"1\" class=\"dataframe\">\n",
       "  <thead>\n",
       "    <tr style=\"text-align: right;\">\n",
       "      <th></th>\n",
       "      <th>y train</th>\n",
       "      <th>y train pred</th>\n",
       "    </tr>\n",
       "  </thead>\n",
       "  <tbody>\n",
       "    <tr>\n",
       "      <td>0</td>\n",
       "      <td>3.712648</td>\n",
       "      <td>4.603168</td>\n",
       "    </tr>\n",
       "    <tr>\n",
       "      <td>1</td>\n",
       "      <td>3.899330</td>\n",
       "      <td>3.058707</td>\n",
       "    </tr>\n",
       "    <tr>\n",
       "      <td>2</td>\n",
       "      <td>3.895132</td>\n",
       "      <td>4.603168</td>\n",
       "    </tr>\n",
       "    <tr>\n",
       "      <td>3</td>\n",
       "      <td>3.670970</td>\n",
       "      <td>3.437208</td>\n",
       "    </tr>\n",
       "    <tr>\n",
       "      <td>4</td>\n",
       "      <td>4.599678</td>\n",
       "      <td>4.394449</td>\n",
       "    </tr>\n",
       "    <tr>\n",
       "      <td>...</td>\n",
       "      <td>...</td>\n",
       "      <td>...</td>\n",
       "    </tr>\n",
       "    <tr>\n",
       "      <td>207</td>\n",
       "      <td>4.061860</td>\n",
       "      <td>4.003690</td>\n",
       "    </tr>\n",
       "    <tr>\n",
       "      <td>208</td>\n",
       "      <td>4.588593</td>\n",
       "      <td>3.407842</td>\n",
       "    </tr>\n",
       "    <tr>\n",
       "      <td>209</td>\n",
       "      <td>4.351053</td>\n",
       "      <td>4.371976</td>\n",
       "    </tr>\n",
       "    <tr>\n",
       "      <td>210</td>\n",
       "      <td>3.972845</td>\n",
       "      <td>4.350278</td>\n",
       "    </tr>\n",
       "    <tr>\n",
       "      <td>211</td>\n",
       "      <td>4.970945</td>\n",
       "      <td>5.332236</td>\n",
       "    </tr>\n",
       "  </tbody>\n",
       "</table>\n",
       "<p>212 rows × 2 columns</p>\n",
       "</div>"
      ],
      "text/plain": [
       "      y train  y train pred\n",
       "0    3.712648      4.603168\n",
       "1    3.899330      3.058707\n",
       "2    3.895132      4.603168\n",
       "3    3.670970      3.437208\n",
       "4    4.599678      4.394449\n",
       "..        ...           ...\n",
       "207  4.061860      4.003690\n",
       "208  4.588593      3.407842\n",
       "209  4.351053      4.371976\n",
       "210  3.972845      4.350278\n",
       "211  4.970945      5.332236\n",
       "\n",
       "[212 rows x 2 columns]"
      ]
     },
     "execution_count": 37,
     "metadata": {},
     "output_type": "execute_result"
    }
   ],
   "source": [
    "Train2"
   ]
  },
  {
   "cell_type": "code",
   "execution_count": 38,
   "metadata": {},
   "outputs": [
    {
     "data": {
      "text/html": [
       "<div>\n",
       "<style scoped>\n",
       "    .dataframe tbody tr th:only-of-type {\n",
       "        vertical-align: middle;\n",
       "    }\n",
       "\n",
       "    .dataframe tbody tr th {\n",
       "        vertical-align: top;\n",
       "    }\n",
       "\n",
       "    .dataframe thead th {\n",
       "        text-align: right;\n",
       "    }\n",
       "</style>\n",
       "<table border=\"1\" class=\"dataframe\">\n",
       "  <thead>\n",
       "    <tr style=\"text-align: right;\">\n",
       "      <th></th>\n",
       "      <th>y test</th>\n",
       "      <th>y test pred</th>\n",
       "    </tr>\n",
       "  </thead>\n",
       "  <tbody>\n",
       "    <tr>\n",
       "      <td>0</td>\n",
       "      <td>3.563983</td>\n",
       "      <td>4.462454</td>\n",
       "    </tr>\n",
       "    <tr>\n",
       "      <td>1</td>\n",
       "      <td>4.372533</td>\n",
       "      <td>3.910021</td>\n",
       "    </tr>\n",
       "    <tr>\n",
       "      <td>2</td>\n",
       "      <td>4.766528</td>\n",
       "      <td>4.603168</td>\n",
       "    </tr>\n",
       "    <tr>\n",
       "      <td>3</td>\n",
       "      <td>3.500096</td>\n",
       "      <td>3.532226</td>\n",
       "    </tr>\n",
       "    <tr>\n",
       "      <td>4</td>\n",
       "      <td>3.738768</td>\n",
       "      <td>3.985273</td>\n",
       "    </tr>\n",
       "    <tr>\n",
       "      <td>...</td>\n",
       "      <td>...</td>\n",
       "      <td>...</td>\n",
       "    </tr>\n",
       "    <tr>\n",
       "      <td>87</td>\n",
       "      <td>3.677828</td>\n",
       "      <td>4.023564</td>\n",
       "    </tr>\n",
       "    <tr>\n",
       "      <td>88</td>\n",
       "      <td>3.492782</td>\n",
       "      <td>4.160444</td>\n",
       "    </tr>\n",
       "    <tr>\n",
       "      <td>89</td>\n",
       "      <td>4.588593</td>\n",
       "      <td>3.407842</td>\n",
       "    </tr>\n",
       "    <tr>\n",
       "      <td>90</td>\n",
       "      <td>3.893453</td>\n",
       "      <td>4.727388</td>\n",
       "    </tr>\n",
       "    <tr>\n",
       "      <td>91</td>\n",
       "      <td>3.628417</td>\n",
       "      <td>2.809403</td>\n",
       "    </tr>\n",
       "  </tbody>\n",
       "</table>\n",
       "<p>92 rows × 2 columns</p>\n",
       "</div>"
      ],
      "text/plain": [
       "      y test  y test pred\n",
       "0   3.563983     4.462454\n",
       "1   4.372533     3.910021\n",
       "2   4.766528     4.603168\n",
       "3   3.500096     3.532226\n",
       "4   3.738768     3.985273\n",
       "..       ...          ...\n",
       "87  3.677828     4.023564\n",
       "88  3.492782     4.160444\n",
       "89  4.588593     3.407842\n",
       "90  3.893453     4.727388\n",
       "91  3.628417     2.809403\n",
       "\n",
       "[92 rows x 2 columns]"
      ]
     },
     "execution_count": 38,
     "metadata": {},
     "output_type": "execute_result"
    }
   ],
   "source": [
    "Test2"
   ]
  },
  {
   "cell_type": "code",
   "execution_count": 41,
   "metadata": {},
   "outputs": [],
   "source": [
    "import openpyxl\n",
    "from openpyxl import load_workbook"
   ]
  },
  {
   "cell_type": "code",
   "execution_count": 42,
   "metadata": {},
   "outputs": [],
   "source": [
    "workbook = openpyxl.load_workbook(\"multiple.xlsx\")\n",
    "writer = pd.ExcelWriter('multiple.xlsx', engine='openpyxl')\n",
    "writer.book = workbook\n",
    "writer.sheets = dict((ws.title, ws) for ws in workbook.worksheets)\n",
    "Train2.to_excel(writer, sheet_name='Train2')\n",
    "Test2.to_excel(writer, sheet_name='Test2')\n",
    "writer.save()"
   ]
  },
  {
   "cell_type": "code",
   "execution_count": null,
   "metadata": {},
   "outputs": [],
   "source": [
    "writer = pd.ExcelWriter('multiple.xlsx', engine='xlsxwriter')\n",
    "\n",
    "Train2.to_excel(writer, sheet_name='Train2')\n",
    "\n",
    "Test2.to_excel(writer, sheet_name='Test2')\n",
    "\n",
    "writer.save()"
   ]
  }
 ],
 "metadata": {
  "kernelspec": {
   "display_name": "Python 3",
   "language": "python",
   "name": "python3"
  },
  "language_info": {
   "codemirror_mode": {
    "name": "ipython",
    "version": 3
   },
   "file_extension": ".py",
   "mimetype": "text/x-python",
   "name": "python",
   "nbconvert_exporter": "python",
   "pygments_lexer": "ipython3",
   "version": "3.7.4"
  }
 },
 "nbformat": 4,
 "nbformat_minor": 2
}
