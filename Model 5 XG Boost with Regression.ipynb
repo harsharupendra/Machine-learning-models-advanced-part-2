{
 "cells": [
  {
   "cell_type": "markdown",
   "metadata": {},
   "source": [
    "# Overview\n",
    "\n",
    "Problem Approach:\n",
    "The give data on predicting corrosion rate of carbon steel contains features such as\n",
    "1. Temperature \n",
    "2. Time of wetness  \n",
    "3. sulfur dioxide \n",
    "4. chloride concentrations \n",
    "5. Exposure Time (Years)\n",
    "and doesn't contain two features \"Relative humidity and precipitation \" \n",
    "\n",
    "Models Used\n",
    "* [Lasso Regression](#Lasso-Regression)\n",
    "* [Ridge Regression](#Ridge-Regression)\n",
    "* [PCA with Ridge Regression](#PCA-with-Ridge-Regression)\n",
    "* [Regression Trees](#Regression-Trees)\n",
    "* [XG Boost with Regression](#XG-Boost-with-Regression)\n",
    "* [ANN](#A-N-N)\n",
    "\n",
    "\n",
    "Out of these models the XG Boost comes out to be the best model (with the R2 of 98.8% and 84.2% for training and testing datasets respectively)"
   ]
  },
  {
   "cell_type": "markdown",
   "metadata": {},
   "source": [
    "Summary:\n",
    " 1. The data is pretty clean with no missing values there aren't many outliers as well\n",
    " 2. The distribution of target variable is skewed which is some what corrected by applying log transformation\n",
    " 3. The Simple models of Lasso and Ridge reression gave moderate R2 values\n",
    " 4. The PCA is applied and as expected the performance is dropped, this is due to the low number of indipendent\n",
    "    variables and they are condensed into only single PCA component, so the loss of information  accounted for the\n",
    "    drop in the performance\n",
    " 5. So Regression tree is employed, The simple Regression tree got proned to overfitting with training value of 1 and\n",
    "    test value of 0.52, so hyper parameter tuning is done, but the performance didn't improve much compared to\n",
    "    previou models\n",
    " 6. Later XG boost with parameter tuning is applied and the model performed significantly well then the rest\n",
    " 7. The ANN model though comparatively better than others is not as good as the XG boost\n",
    " \n",
    " But overall all the models colud be improved with more number of features such as Humidity and Precipitation "
   ]
  },
  {
   "cell_type": "markdown",
   "metadata": {},
   "source": [
    "### Import all the necessary libraries"
   ]
  },
  {
   "cell_type": "code",
   "execution_count": 1,
   "metadata": {},
   "outputs": [],
   "source": [
    "import numpy as np\n",
    "import pandas as pd\n",
    "import matplotlib.pyplot as plt\n",
    "import seaborn as sns\n",
    "%matplotlib inline\n",
    "\n",
    "from sklearn.model_selection import train_test_split\n",
    "from sklearn.preprocessing import MinMaxScaler\n",
    "\n",
    "from sklearn.linear_model import Ridge\n",
    "from sklearn.linear_model import Lasso\n",
    "from sklearn.model_selection import GridSearchCV\n",
    "from sklearn import linear_model\n",
    "\n",
    "from sklearn.metrics import r2_score\n",
    "\n",
    "from sklearn.decomposition import IncrementalPCA\n",
    "from sklearn.decomposition import PCA\n",
    "from sklearn.metrics import accuracy_score,confusion_matrix,classification_report,roc_auc_score,precision_score,recall_score,f1_score\n",
    "from sklearn.model_selection import GridSearchCV,StratifiedKFold,RandomizedSearchCV\n",
    "\n",
    "from sklearn.tree import DecisionTreeRegressor\n",
    "\n",
    "import xgboost\n",
    "\n",
    "from sklearn import metrics\n",
    "\n",
    "from tensorflow.keras.models import Sequential\n",
    "from tensorflow.keras.layers import Input, Dense, Activation, Dropout\n",
    "from tensorflow.keras.optimizers import Adam"
   ]
  },
  {
   "cell_type": "code",
   "execution_count": 2,
   "metadata": {},
   "outputs": [],
   "source": [
    "df = pd.read_excel('Corrosion data.xlsx')"
   ]
  },
  {
   "cell_type": "code",
   "execution_count": 3,
   "metadata": {},
   "outputs": [
    {
     "data": {
      "text/html": [
       "<div>\n",
       "<style scoped>\n",
       "    .dataframe tbody tr th:only-of-type {\n",
       "        vertical-align: middle;\n",
       "    }\n",
       "\n",
       "    .dataframe tbody tr th {\n",
       "        vertical-align: top;\n",
       "    }\n",
       "\n",
       "    .dataframe thead th {\n",
       "        text-align: right;\n",
       "    }\n",
       "</style>\n",
       "<table border=\"1\" class=\"dataframe\">\n",
       "  <thead>\n",
       "    <tr style=\"text-align: right;\">\n",
       "      <th></th>\n",
       "      <th>Unnamed: 0</th>\n",
       "      <th>Temp©</th>\n",
       "      <th>TOW(%)</th>\n",
       "      <th>SO2 (microgm/m^3)</th>\n",
       "      <th>Cl-(mg/m^2/day)</th>\n",
       "      <th>Exposure Time (Years)</th>\n",
       "      <th>Corrosion depth in steel (mm)</th>\n",
       "    </tr>\n",
       "  </thead>\n",
       "  <tbody>\n",
       "    <tr>\n",
       "      <td>0</td>\n",
       "      <td>1</td>\n",
       "      <td>13.34</td>\n",
       "      <td>0.16</td>\n",
       "      <td>65</td>\n",
       "      <td>182.0</td>\n",
       "      <td>3.0</td>\n",
       "      <td>88.7</td>\n",
       "    </tr>\n",
       "    <tr>\n",
       "      <td>1</td>\n",
       "      <td>2</td>\n",
       "      <td>13.34</td>\n",
       "      <td>0.16</td>\n",
       "      <td>65</td>\n",
       "      <td>182.0</td>\n",
       "      <td>2.0</td>\n",
       "      <td>79.2</td>\n",
       "    </tr>\n",
       "    <tr>\n",
       "      <td>2</td>\n",
       "      <td>3</td>\n",
       "      <td>13.34</td>\n",
       "      <td>0.16</td>\n",
       "      <td>26</td>\n",
       "      <td>182.0</td>\n",
       "      <td>3.0</td>\n",
       "      <td>95.1</td>\n",
       "    </tr>\n",
       "    <tr>\n",
       "      <td>3</td>\n",
       "      <td>4</td>\n",
       "      <td>13.34</td>\n",
       "      <td>0.16</td>\n",
       "      <td>26</td>\n",
       "      <td>182.0</td>\n",
       "      <td>2.0</td>\n",
       "      <td>81.0</td>\n",
       "    </tr>\n",
       "    <tr>\n",
       "      <td>4</td>\n",
       "      <td>5</td>\n",
       "      <td>13.34</td>\n",
       "      <td>0.16</td>\n",
       "      <td>26</td>\n",
       "      <td>182.0</td>\n",
       "      <td>1.0</td>\n",
       "      <td>48.1</td>\n",
       "    </tr>\n",
       "  </tbody>\n",
       "</table>\n",
       "</div>"
      ],
      "text/plain": [
       "   Unnamed: 0  Temp©  TOW(%)  SO2 (microgm/m^3)  Cl-(mg/m^2/day)  \\\n",
       "0           1  13.34    0.16                 65            182.0   \n",
       "1           2  13.34    0.16                 65            182.0   \n",
       "2           3  13.34    0.16                 26            182.0   \n",
       "3           4  13.34    0.16                 26            182.0   \n",
       "4           5  13.34    0.16                 26            182.0   \n",
       "\n",
       "   Exposure Time (Years)  Corrosion depth in steel (mm)  \n",
       "0                    3.0                           88.7  \n",
       "1                    2.0                           79.2  \n",
       "2                    3.0                           95.1  \n",
       "3                    2.0                           81.0  \n",
       "4                    1.0                           48.1  "
      ]
     },
     "execution_count": 3,
     "metadata": {},
     "output_type": "execute_result"
    }
   ],
   "source": [
    "df.head()"
   ]
  },
  {
   "cell_type": "code",
   "execution_count": 4,
   "metadata": {},
   "outputs": [
    {
     "name": "stdout",
     "output_type": "stream",
     "text": [
      "<class 'pandas.core.frame.DataFrame'>\n",
      "RangeIndex: 304 entries, 0 to 303\n",
      "Data columns (total 7 columns):\n",
      "Unnamed: 0                       304 non-null int64\n",
      "Temp©                            304 non-null float64\n",
      "TOW(%)                           304 non-null float64\n",
      "SO2 (microgm/m^3)                304 non-null int64\n",
      "Cl-(mg/m^2/day)                  304 non-null float64\n",
      "Exposure Time (Years)            304 non-null float64\n",
      "Corrosion depth in steel (mm)    304 non-null float64\n",
      "dtypes: float64(5), int64(2)\n",
      "memory usage: 16.8 KB\n"
     ]
    }
   ],
   "source": [
    "df.info()"
   ]
  },
  {
   "cell_type": "code",
   "execution_count": 5,
   "metadata": {},
   "outputs": [],
   "source": [
    "df = df.drop(df.columns[0], axis=1)\n",
    "df = df.rename(columns = {\"Temp©\":\"temp\",\"TOW(%)\":\"time of wetness\"}, inplace = False)"
   ]
  },
  {
   "cell_type": "code",
   "execution_count": 6,
   "metadata": {},
   "outputs": [
    {
     "data": {
      "text/html": [
       "<div>\n",
       "<style scoped>\n",
       "    .dataframe tbody tr th:only-of-type {\n",
       "        vertical-align: middle;\n",
       "    }\n",
       "\n",
       "    .dataframe tbody tr th {\n",
       "        vertical-align: top;\n",
       "    }\n",
       "\n",
       "    .dataframe thead th {\n",
       "        text-align: right;\n",
       "    }\n",
       "</style>\n",
       "<table border=\"1\" class=\"dataframe\">\n",
       "  <thead>\n",
       "    <tr style=\"text-align: right;\">\n",
       "      <th></th>\n",
       "      <th>temp</th>\n",
       "      <th>time of wetness</th>\n",
       "      <th>SO2 (microgm/m^3)</th>\n",
       "      <th>Cl-(mg/m^2/day)</th>\n",
       "      <th>Exposure Time (Years)</th>\n",
       "      <th>Corrosion depth in steel (mm)</th>\n",
       "    </tr>\n",
       "  </thead>\n",
       "  <tbody>\n",
       "    <tr>\n",
       "      <td>count</td>\n",
       "      <td>304.000000</td>\n",
       "      <td>304.000000</td>\n",
       "      <td>304.000000</td>\n",
       "      <td>304.000000</td>\n",
       "      <td>304.000000</td>\n",
       "      <td>304.000000</td>\n",
       "    </tr>\n",
       "    <tr>\n",
       "      <td>mean</td>\n",
       "      <td>10.737105</td>\n",
       "      <td>0.416569</td>\n",
       "      <td>30.009868</td>\n",
       "      <td>28.403586</td>\n",
       "      <td>3.218750</td>\n",
       "      <td>78.134211</td>\n",
       "    </tr>\n",
       "    <tr>\n",
       "      <td>std</td>\n",
       "      <td>6.381478</td>\n",
       "      <td>0.133032</td>\n",
       "      <td>32.700409</td>\n",
       "      <td>38.775464</td>\n",
       "      <td>2.577001</td>\n",
       "      <td>71.028911</td>\n",
       "    </tr>\n",
       "    <tr>\n",
       "      <td>min</td>\n",
       "      <td>0.310000</td>\n",
       "      <td>0.100000</td>\n",
       "      <td>2.000000</td>\n",
       "      <td>0.160000</td>\n",
       "      <td>0.500000</td>\n",
       "      <td>1.600000</td>\n",
       "    </tr>\n",
       "    <tr>\n",
       "      <td>25%</td>\n",
       "      <td>6.060000</td>\n",
       "      <td>0.360000</td>\n",
       "      <td>6.000000</td>\n",
       "      <td>5.000000</td>\n",
       "      <td>1.000000</td>\n",
       "      <td>33.550000</td>\n",
       "    </tr>\n",
       "    <tr>\n",
       "      <td>50%</td>\n",
       "      <td>7.580000</td>\n",
       "      <td>0.400000</td>\n",
       "      <td>20.000000</td>\n",
       "      <td>17.000000</td>\n",
       "      <td>2.000000</td>\n",
       "      <td>55.350000</td>\n",
       "    </tr>\n",
       "    <tr>\n",
       "      <td>75%</td>\n",
       "      <td>13.340000</td>\n",
       "      <td>0.480000</td>\n",
       "      <td>35.000000</td>\n",
       "      <td>31.000000</td>\n",
       "      <td>4.000000</td>\n",
       "      <td>95.100000</td>\n",
       "    </tr>\n",
       "    <tr>\n",
       "      <td>max</td>\n",
       "      <td>27.880000</td>\n",
       "      <td>0.950000</td>\n",
       "      <td>140.000000</td>\n",
       "      <td>182.000000</td>\n",
       "      <td>12.000000</td>\n",
       "      <td>411.100000</td>\n",
       "    </tr>\n",
       "  </tbody>\n",
       "</table>\n",
       "</div>"
      ],
      "text/plain": [
       "             temp  time of wetness  SO2 (microgm/m^3)  Cl-(mg/m^2/day)  \\\n",
       "count  304.000000       304.000000         304.000000       304.000000   \n",
       "mean    10.737105         0.416569          30.009868        28.403586   \n",
       "std      6.381478         0.133032          32.700409        38.775464   \n",
       "min      0.310000         0.100000           2.000000         0.160000   \n",
       "25%      6.060000         0.360000           6.000000         5.000000   \n",
       "50%      7.580000         0.400000          20.000000        17.000000   \n",
       "75%     13.340000         0.480000          35.000000        31.000000   \n",
       "max     27.880000         0.950000         140.000000       182.000000   \n",
       "\n",
       "       Exposure Time (Years)  Corrosion depth in steel (mm)  \n",
       "count             304.000000                     304.000000  \n",
       "mean                3.218750                      78.134211  \n",
       "std                 2.577001                      71.028911  \n",
       "min                 0.500000                       1.600000  \n",
       "25%                 1.000000                      33.550000  \n",
       "50%                 2.000000                      55.350000  \n",
       "75%                 4.000000                      95.100000  \n",
       "max                12.000000                     411.100000  "
      ]
     },
     "execution_count": 6,
     "metadata": {},
     "output_type": "execute_result"
    }
   ],
   "source": [
    "df.describe()"
   ]
  },
  {
   "cell_type": "markdown",
   "metadata": {},
   "source": [
    "## EDA for checking correlations and distibution"
   ]
  },
  {
   "cell_type": "code",
   "execution_count": 7,
   "metadata": {},
   "outputs": [
    {
     "data": {
      "text/plain": [
       "<matplotlib.collections.PathCollection at 0x7fac038fde90>"
      ]
     },
     "execution_count": 7,
     "metadata": {},
     "output_type": "execute_result"
    },
    {
     "data": {
      "image/png": "[encoded data removed]",
      "text/plain": [
       "<Figure size 1152x576 with 6 Axes>"
      ]
     },
     "metadata": {
      "needs_background": "light"
     },
     "output_type": "display_data"
    }
   ],
   "source": [
    "plt.figure(figsize=(16,8))\n",
    "plt.subplot(2,3,1)\n",
    "plt.scatter(df.temp,df[\"Corrosion depth in steel (mm)\"])\n",
    "plt.subplot(2,3,2)\n",
    "plt.scatter(df[\"time of wetness\"],df[\"Corrosion depth in steel (mm)\"])\n",
    "plt.subplot(2,3,3)\n",
    "plt.scatter(df[\"SO2 (microgm/m^3)\"],df[\"Corrosion depth in steel (mm)\"])\n",
    "plt.subplot(2,3,4)\n",
    "plt.scatter(df[\"Cl-(mg/m^2/day)\"],df[\"Corrosion depth in steel (mm)\"])\n",
    "plt.subplot(2,3,5)\n",
    "plt.scatter(df[\"Exposure Time (Years)\"],df[\"Corrosion depth in steel (mm)\"])\n",
    "plt.subplot(2,3,6)\n",
    "plt.scatter(df[\"Corrosion depth in steel (mm)\"],df[\"Corrosion depth in steel (mm)\"])"
   ]
  },
  {
   "cell_type": "code",
   "execution_count": 8,
   "metadata": {},
   "outputs": [
    {
     "data": {
      "image/png": "[encoded data removed]",
      "text/plain": [
       "<Figure size 432x432 with 2 Axes>"
      ]
     },
     "metadata": {
      "needs_background": "light"
     },
     "output_type": "display_data"
    }
   ],
   "source": [
    "plt.figure(figsize=(6,6))\n",
    "ax = sns.heatmap(df.corr(),annot=True)\n",
    "bottom, top = ax.get_ylim()\n",
    "ax.set_ylim(bottom + 0.5, top - 0.5)\n",
    "plt.show()"
   ]
  },
  {
   "cell_type": "code",
   "execution_count": 9,
   "metadata": {},
   "outputs": [
    {
     "data": {
      "image/png": "[encoded data removed]",
      "text/plain": [
       "<Figure size 576x432 with 1 Axes>"
      ]
     },
     "metadata": {
      "needs_background": "light"
     },
     "output_type": "display_data"
    }
   ],
   "source": [
    "plt.figure(figsize=(8,6))\n",
    "sns.distplot(df[\"Corrosion depth in steel (mm)\"])\n",
    "plt.show()"
   ]
  },
  {
   "cell_type": "code",
   "execution_count": 10,
   "metadata": {},
   "outputs": [
    {
     "data": {
      "text/plain": [
       "<matplotlib.axes._subplots.AxesSubplot at 0x7fac03fdf990>"
      ]
     },
     "execution_count": 10,
     "metadata": {},
     "output_type": "execute_result"
    },
    {
     "data": {
      "image/png": "[encoded data removed]",
      "text/plain": [
       "<Figure size 432x288 with 1 Axes>"
      ]
     },
     "metadata": {
      "needs_background": "light"
     },
     "output_type": "display_data"
    }
   ],
   "source": [
    "sns.distplot(np.log(df[\"Corrosion depth in steel (mm)\"]))"
   ]
  },
  {
   "cell_type": "markdown",
   "metadata": {},
   "source": [
    "## Data Preparation"
   ]
  },
  {
   "cell_type": "code",
   "execution_count": 11,
   "metadata": {},
   "outputs": [],
   "source": [
    "def cap_outliers(array, k=3):\n",
    "    upper_limit = array.mean() + k*array.std()\n",
    "    lower_limit = array.mean() - k*array.std()\n",
    "    array[array<lower_limit] = lower_limit\n",
    "    array[array>upper_limit] = upper_limit\n",
    "    return array"
   ]
  },
  {
   "cell_type": "code",
   "execution_count": 12,
   "metadata": {},
   "outputs": [
    {
     "name": "stderr",
     "output_type": "stream",
     "text": [
      "/opt/anaconda3/lib/python3.7/site-packages/ipykernel_launcher.py:4: SettingWithCopyWarning: \n",
      "A value is trying to be set on a copy of a slice from a DataFrame\n",
      "\n",
      "See the caveats in the documentation: http://pandas.pydata.org/pandas-docs/stable/user_guide/indexing.html#returning-a-view-versus-a-copy\n",
      "  after removing the cwd from sys.path.\n",
      "/opt/anaconda3/lib/python3.7/site-packages/ipykernel_launcher.py:5: SettingWithCopyWarning: \n",
      "A value is trying to be set on a copy of a slice from a DataFrame\n",
      "\n",
      "See the caveats in the documentation: http://pandas.pydata.org/pandas-docs/stable/user_guide/indexing.html#returning-a-view-versus-a-copy\n",
      "  \"\"\"\n"
     ]
    }
   ],
   "source": [
    "df = df.apply(cap_outliers, axis=0)"
   ]
  },
  {
   "cell_type": "code",
   "execution_count": 13,
   "metadata": {},
   "outputs": [
    {
     "data": {
      "text/html": [
       "<div>\n",
       "<style scoped>\n",
       "    .dataframe tbody tr th:only-of-type {\n",
       "        vertical-align: middle;\n",
       "    }\n",
       "\n",
       "    .dataframe tbody tr th {\n",
       "        vertical-align: top;\n",
       "    }\n",
       "\n",
       "    .dataframe thead th {\n",
       "        text-align: right;\n",
       "    }\n",
       "</style>\n",
       "<table border=\"1\" class=\"dataframe\">\n",
       "  <thead>\n",
       "    <tr style=\"text-align: right;\">\n",
       "      <th></th>\n",
       "      <th>temp</th>\n",
       "      <th>time of wetness</th>\n",
       "      <th>SO2 (microgm/m^3)</th>\n",
       "      <th>Cl-(mg/m^2/day)</th>\n",
       "      <th>Exposure Time (Years)</th>\n",
       "      <th>Corrosion depth in steel (mm)</th>\n",
       "    </tr>\n",
       "  </thead>\n",
       "  <tbody>\n",
       "    <tr>\n",
       "      <td>0</td>\n",
       "      <td>13.34</td>\n",
       "      <td>0.16</td>\n",
       "      <td>65.0</td>\n",
       "      <td>144.729977</td>\n",
       "      <td>3.0</td>\n",
       "      <td>88.7</td>\n",
       "    </tr>\n",
       "    <tr>\n",
       "      <td>1</td>\n",
       "      <td>13.34</td>\n",
       "      <td>0.16</td>\n",
       "      <td>65.0</td>\n",
       "      <td>144.729977</td>\n",
       "      <td>2.0</td>\n",
       "      <td>79.2</td>\n",
       "    </tr>\n",
       "    <tr>\n",
       "      <td>2</td>\n",
       "      <td>13.34</td>\n",
       "      <td>0.16</td>\n",
       "      <td>26.0</td>\n",
       "      <td>144.729977</td>\n",
       "      <td>3.0</td>\n",
       "      <td>95.1</td>\n",
       "    </tr>\n",
       "    <tr>\n",
       "      <td>3</td>\n",
       "      <td>13.34</td>\n",
       "      <td>0.16</td>\n",
       "      <td>26.0</td>\n",
       "      <td>144.729977</td>\n",
       "      <td>2.0</td>\n",
       "      <td>81.0</td>\n",
       "    </tr>\n",
       "    <tr>\n",
       "      <td>4</td>\n",
       "      <td>13.34</td>\n",
       "      <td>0.16</td>\n",
       "      <td>26.0</td>\n",
       "      <td>144.729977</td>\n",
       "      <td>1.0</td>\n",
       "      <td>48.1</td>\n",
       "    </tr>\n",
       "    <tr>\n",
       "      <td>...</td>\n",
       "      <td>...</td>\n",
       "      <td>...</td>\n",
       "      <td>...</td>\n",
       "      <td>...</td>\n",
       "      <td>...</td>\n",
       "      <td>...</td>\n",
       "    </tr>\n",
       "    <tr>\n",
       "      <td>299</td>\n",
       "      <td>17.88</td>\n",
       "      <td>0.66</td>\n",
       "      <td>81.0</td>\n",
       "      <td>0.800000</td>\n",
       "      <td>4.0</td>\n",
       "      <td>200.3</td>\n",
       "    </tr>\n",
       "    <tr>\n",
       "      <td>300</td>\n",
       "      <td>5.15</td>\n",
       "      <td>0.39</td>\n",
       "      <td>5.0</td>\n",
       "      <td>0.700000</td>\n",
       "      <td>2.0</td>\n",
       "      <td>26.0</td>\n",
       "    </tr>\n",
       "    <tr>\n",
       "      <td>301</td>\n",
       "      <td>5.15</td>\n",
       "      <td>0.37</td>\n",
       "      <td>116.0</td>\n",
       "      <td>0.620000</td>\n",
       "      <td>5.0</td>\n",
       "      <td>55.9</td>\n",
       "    </tr>\n",
       "    <tr>\n",
       "      <td>302</td>\n",
       "      <td>5.15</td>\n",
       "      <td>0.37</td>\n",
       "      <td>116.0</td>\n",
       "      <td>0.620000</td>\n",
       "      <td>0.5</td>\n",
       "      <td>21.0</td>\n",
       "    </tr>\n",
       "    <tr>\n",
       "      <td>303</td>\n",
       "      <td>1.21</td>\n",
       "      <td>0.18</td>\n",
       "      <td>5.0</td>\n",
       "      <td>0.300000</td>\n",
       "      <td>2.0</td>\n",
       "      <td>8.0</td>\n",
       "    </tr>\n",
       "  </tbody>\n",
       "</table>\n",
       "<p>304 rows × 6 columns</p>\n",
       "</div>"
      ],
      "text/plain": [
       "      temp  time of wetness  SO2 (microgm/m^3)  Cl-(mg/m^2/day)  \\\n",
       "0    13.34             0.16               65.0       144.729977   \n",
       "1    13.34             0.16               65.0       144.729977   \n",
       "2    13.34             0.16               26.0       144.729977   \n",
       "3    13.34             0.16               26.0       144.729977   \n",
       "4    13.34             0.16               26.0       144.729977   \n",
       "..     ...              ...                ...              ...   \n",
       "299  17.88             0.66               81.0         0.800000   \n",
       "300   5.15             0.39                5.0         0.700000   \n",
       "301   5.15             0.37              116.0         0.620000   \n",
       "302   5.15             0.37              116.0         0.620000   \n",
       "303   1.21             0.18                5.0         0.300000   \n",
       "\n",
       "     Exposure Time (Years)  Corrosion depth in steel (mm)  \n",
       "0                      3.0                           88.7  \n",
       "1                      2.0                           79.2  \n",
       "2                      3.0                           95.1  \n",
       "3                      2.0                           81.0  \n",
       "4                      1.0                           48.1  \n",
       "..                     ...                            ...  \n",
       "299                    4.0                          200.3  \n",
       "300                    2.0                           26.0  \n",
       "301                    5.0                           55.9  \n",
       "302                    0.5                           21.0  \n",
       "303                    2.0                            8.0  \n",
       "\n",
       "[304 rows x 6 columns]"
      ]
     },
     "execution_count": 13,
     "metadata": {},
     "output_type": "execute_result"
    }
   ],
   "source": [
    "df"
   ]
  },
  {
   "cell_type": "code",
   "execution_count": 14,
   "metadata": {},
   "outputs": [],
   "source": [
    "df[\"Corrosion depth in steel (mm)\"] = np.log(df[\"Corrosion depth in steel (mm)\"])"
   ]
  },
  {
   "cell_type": "code",
   "execution_count": 15,
   "metadata": {},
   "outputs": [],
   "source": [
    "X = df.drop([\"Corrosion depth in steel (mm)\"], axis=1).values\n",
    "y = df[\"Corrosion depth in steel (mm)\"].values"
   ]
  },
  {
   "cell_type": "code",
   "execution_count": 16,
   "metadata": {},
   "outputs": [],
   "source": [
    "# split into train and test\n",
    "\n",
    "X_train, X_test, y_train, y_test = train_test_split(X, y,train_size=0.7,test_size = 0.3, random_state=100)"
   ]
  },
  {
   "cell_type": "code",
   "execution_count": 17,
   "metadata": {},
   "outputs": [],
   "source": [
    "scaler = MinMaxScaler()\n",
    "X_train = scaler.fit_transform(X_train)\n",
    "X_test = scaler.transform(X_test)"
   ]
  },
  {
   "cell_type": "markdown",
   "metadata": {},
   "source": [
    "## Model 5: XG Boost with Regression <a class=\"anchor\" id=\"XG-Boost-with-Regression\"></a>"
   ]
  },
  {
   "cell_type": "code",
   "execution_count": 18,
   "metadata": {},
   "outputs": [],
   "source": [
    "n_estimators = [100, 500, 900, 1100, 1500]\n",
    "max_depth = [2, 3, 5, 10, 15]\n",
    "booster = ['gbtree', 'gblinear']\n",
    "base_score = [0.25, 0.5, 0.75, 1]\n",
    "learning_rate = [0.05, 0.1, 0.15, 0.20]\n",
    "min_child_weight = [1, 2, 3, 4]"
   ]
  },
  {
   "cell_type": "code",
   "execution_count": 19,
   "metadata": {},
   "outputs": [],
   "source": [
    "# Define the grid of hyperparameters to search\n",
    "hyperparameter_grid = {\n",
    "    'n_estimators': n_estimators,\n",
    "    'max_depth': max_depth,\n",
    "    'learning_rate' : learning_rate,\n",
    "    'min_child_weight' : min_child_weight,\n",
    "    'booster' : booster,\n",
    "    'base_score' : base_score\n",
    "    }"
   ]
  },
  {
   "cell_type": "code",
   "execution_count": 20,
   "metadata": {},
   "outputs": [],
   "source": [
    "regressor = xgboost.XGBRegressor()\n",
    "random_cv = RandomizedSearchCV(estimator=regressor, param_distributions=hyperparameter_grid, cv=5,n_iter=50, \n",
    "                               scoring = 'neg_mean_absolute_error',n_jobs = 4,\n",
    "                               verbose = 5, return_train_score = True, random_state=42)"
   ]
  },
  {
   "cell_type": "code",
   "execution_count": 21,
   "metadata": {},
   "outputs": [],
   "source": [
    "regressor = xgboost.XGBRegressor(base_score=0.25, \n",
    "                                 booster='gbtree', \n",
    "                                 learning_rate=0.1, \n",
    "                                 max_delta_step=0,\n",
    "                                 max_depth=2, \n",
    "                                 min_child_weight=1, \n",
    "                                 n_estimators=900,\n",
    "                                 verbosity=1)"
   ]
  },
  {
   "cell_type": "code",
   "execution_count": 22,
   "metadata": {},
   "outputs": [
    {
     "name": "stdout",
     "output_type": "stream",
     "text": [
      "[11:11:32] WARNING: src/objective/regression_obj.cu:152: reg:linear is now deprecated in favor of reg:squarederror.\n"
     ]
    },
    {
     "data": {
      "text/plain": [
       "XGBRegressor(base_score=0.25, booster='gbtree', colsample_bylevel=1,\n",
       "             colsample_bynode=1, colsample_bytree=1, gamma=0,\n",
       "             importance_type='gain', learning_rate=0.1, max_delta_step=0,\n",
       "             max_depth=2, min_child_weight=1, missing=None, n_estimators=900,\n",
       "             n_jobs=1, nthread=None, objective='reg:linear', random_state=0,\n",
       "             reg_alpha=0, reg_lambda=1, scale_pos_weight=1, seed=None,\n",
       "             silent=None, subsample=1, verbosity=1)"
      ]
     },
     "execution_count": 22,
     "metadata": {},
     "output_type": "execute_result"
    }
   ],
   "source": [
    "regressor.fit(X_train, y_train)"
   ]
  },
  {
   "cell_type": "code",
   "execution_count": 23,
   "metadata": {},
   "outputs": [
    {
     "name": "stdout",
     "output_type": "stream",
     "text": [
      "0.988817449166869\n",
      "0.8421268646772079\n"
     ]
    }
   ],
   "source": [
    "y_train_pred = regressor.predict(X_train)\n",
    "y_test_pred = regressor.predict(X_test)\n",
    "\n",
    "print(r2_score(y_true=y_train,y_pred=y_train_pred))\n",
    "print(r2_score(y_true=y_test,y_pred=y_test_pred))"
   ]
  },
  {
   "cell_type": "code",
   "execution_count": 24,
   "metadata": {},
   "outputs": [],
   "source": [
    "Train5 = pd.DataFrame(y_train,y_train_pred)\n",
    "Train5.reset_index(level=0, inplace=True)\n",
    "Train5 = Train5.rename(columns = {'index': 'y train', 0: 'y train pred'}, inplace = False)"
   ]
  },
  {
   "cell_type": "code",
   "execution_count": 25,
   "metadata": {},
   "outputs": [],
   "source": [
    "Test5 = pd.DataFrame(y_test,y_test_pred)\n",
    "Test5.reset_index(level=0, inplace=True)\n",
    "Test5 = Test5.rename(columns = {'index': 'y test', 0: 'y test pred'}, inplace = False)"
   ]
  },
  {
   "cell_type": "code",
   "execution_count": 26,
   "metadata": {},
   "outputs": [
    {
     "data": {
      "text/html": [
       "<div>\n",
       "<style scoped>\n",
       "    .dataframe tbody tr th:only-of-type {\n",
       "        vertical-align: middle;\n",
       "    }\n",
       "\n",
       "    .dataframe tbody tr th {\n",
       "        vertical-align: top;\n",
       "    }\n",
       "\n",
       "    .dataframe thead th {\n",
       "        text-align: right;\n",
       "    }\n",
       "</style>\n",
       "<table border=\"1\" class=\"dataframe\">\n",
       "  <thead>\n",
       "    <tr style=\"text-align: right;\">\n",
       "      <th></th>\n",
       "      <th>y train</th>\n",
       "      <th>y train pred</th>\n",
       "    </tr>\n",
       "  </thead>\n",
       "  <tbody>\n",
       "    <tr>\n",
       "      <td>0</td>\n",
       "      <td>4.614641</td>\n",
       "      <td>4.603168</td>\n",
       "    </tr>\n",
       "    <tr>\n",
       "      <td>1</td>\n",
       "      <td>3.349122</td>\n",
       "      <td>3.058707</td>\n",
       "    </tr>\n",
       "    <tr>\n",
       "      <td>2</td>\n",
       "      <td>4.429652</td>\n",
       "      <td>4.603168</td>\n",
       "    </tr>\n",
       "    <tr>\n",
       "      <td>3</td>\n",
       "      <td>3.439705</td>\n",
       "      <td>3.437208</td>\n",
       "    </tr>\n",
       "    <tr>\n",
       "      <td>4</td>\n",
       "      <td>4.297438</td>\n",
       "      <td>4.394449</td>\n",
       "    </tr>\n",
       "    <tr>\n",
       "      <td>...</td>\n",
       "      <td>...</td>\n",
       "      <td>...</td>\n",
       "    </tr>\n",
       "    <tr>\n",
       "      <td>207</td>\n",
       "      <td>4.158679</td>\n",
       "      <td>4.003690</td>\n",
       "    </tr>\n",
       "    <tr>\n",
       "      <td>208</td>\n",
       "      <td>3.370241</td>\n",
       "      <td>3.407842</td>\n",
       "    </tr>\n",
       "    <tr>\n",
       "      <td>209</td>\n",
       "      <td>4.345253</td>\n",
       "      <td>4.371976</td>\n",
       "    </tr>\n",
       "    <tr>\n",
       "      <td>210</td>\n",
       "      <td>4.401841</td>\n",
       "      <td>4.350278</td>\n",
       "    </tr>\n",
       "    <tr>\n",
       "      <td>211</td>\n",
       "      <td>5.156461</td>\n",
       "      <td>5.332236</td>\n",
       "    </tr>\n",
       "  </tbody>\n",
       "</table>\n",
       "<p>212 rows × 2 columns</p>\n",
       "</div>"
      ],
      "text/plain": [
       "      y train  y train pred\n",
       "0    4.614641      4.603168\n",
       "1    3.349122      3.058707\n",
       "2    4.429652      4.603168\n",
       "3    3.439705      3.437208\n",
       "4    4.297438      4.394449\n",
       "..        ...           ...\n",
       "207  4.158679      4.003690\n",
       "208  3.370241      3.407842\n",
       "209  4.345253      4.371976\n",
       "210  4.401841      4.350278\n",
       "211  5.156461      5.332236\n",
       "\n",
       "[212 rows x 2 columns]"
      ]
     },
     "execution_count": 26,
     "metadata": {},
     "output_type": "execute_result"
    }
   ],
   "source": [
    "Train5"
   ]
  },
  {
   "cell_type": "code",
   "execution_count": 27,
   "metadata": {},
   "outputs": [
    {
     "data": {
      "text/html": [
       "<div>\n",
       "<style scoped>\n",
       "    .dataframe tbody tr th:only-of-type {\n",
       "        vertical-align: middle;\n",
       "    }\n",
       "\n",
       "    .dataframe tbody tr th {\n",
       "        vertical-align: top;\n",
       "    }\n",
       "\n",
       "    .dataframe thead th {\n",
       "        text-align: right;\n",
       "    }\n",
       "</style>\n",
       "<table border=\"1\" class=\"dataframe\">\n",
       "  <thead>\n",
       "    <tr style=\"text-align: right;\">\n",
       "      <th></th>\n",
       "      <th>y test</th>\n",
       "      <th>y test pred</th>\n",
       "    </tr>\n",
       "  </thead>\n",
       "  <tbody>\n",
       "    <tr>\n",
       "      <td>0</td>\n",
       "      <td>4.148426</td>\n",
       "      <td>4.462454</td>\n",
       "    </tr>\n",
       "    <tr>\n",
       "      <td>1</td>\n",
       "      <td>4.351992</td>\n",
       "      <td>3.910021</td>\n",
       "    </tr>\n",
       "    <tr>\n",
       "      <td>2</td>\n",
       "      <td>4.248732</td>\n",
       "      <td>4.603168</td>\n",
       "    </tr>\n",
       "    <tr>\n",
       "      <td>3</td>\n",
       "      <td>3.318484</td>\n",
       "      <td>3.532226</td>\n",
       "    </tr>\n",
       "    <tr>\n",
       "      <td>4</td>\n",
       "      <td>3.812102</td>\n",
       "      <td>3.985273</td>\n",
       "    </tr>\n",
       "    <tr>\n",
       "      <td>...</td>\n",
       "      <td>...</td>\n",
       "      <td>...</td>\n",
       "    </tr>\n",
       "    <tr>\n",
       "      <td>87</td>\n",
       "      <td>3.861809</td>\n",
       "      <td>4.023564</td>\n",
       "    </tr>\n",
       "    <tr>\n",
       "      <td>88</td>\n",
       "      <td>4.159589</td>\n",
       "      <td>4.160444</td>\n",
       "    </tr>\n",
       "    <tr>\n",
       "      <td>89</td>\n",
       "      <td>3.370241</td>\n",
       "      <td>3.407842</td>\n",
       "    </tr>\n",
       "    <tr>\n",
       "      <td>90</td>\n",
       "      <td>4.689228</td>\n",
       "      <td>4.727388</td>\n",
       "    </tr>\n",
       "    <tr>\n",
       "      <td>91</td>\n",
       "      <td>2.695754</td>\n",
       "      <td>2.809403</td>\n",
       "    </tr>\n",
       "  </tbody>\n",
       "</table>\n",
       "<p>92 rows × 2 columns</p>\n",
       "</div>"
      ],
      "text/plain": [
       "      y test  y test pred\n",
       "0   4.148426     4.462454\n",
       "1   4.351992     3.910021\n",
       "2   4.248732     4.603168\n",
       "3   3.318484     3.532226\n",
       "4   3.812102     3.985273\n",
       "..       ...          ...\n",
       "87  3.861809     4.023564\n",
       "88  4.159589     4.160444\n",
       "89  3.370241     3.407842\n",
       "90  4.689228     4.727388\n",
       "91  2.695754     2.809403\n",
       "\n",
       "[92 rows x 2 columns]"
      ]
     },
     "execution_count": 27,
     "metadata": {},
     "output_type": "execute_result"
    }
   ],
   "source": [
    "Test5"
   ]
  },
  {
   "cell_type": "code",
   "execution_count": 28,
   "metadata": {},
   "outputs": [],
   "source": [
    "import openpyxl\n",
    "from openpyxl import load_workbook"
   ]
  },
  {
   "cell_type": "code",
   "execution_count": 29,
   "metadata": {},
   "outputs": [],
   "source": [
    "workbook = openpyxl.load_workbook(\"multiple.xlsx\")\n",
    "writer = pd.ExcelWriter('multiple.xlsx', engine='openpyxl')\n",
    "writer.book = workbook\n",
    "writer.sheets = dict((ws.title, ws) for ws in workbook.worksheets)\n",
    "Train5.to_excel(writer, sheet_name='Train5')\n",
    "Test5.to_excel(writer, sheet_name='Test5')\n",
    "writer.save()"
   ]
  },
  {
   "cell_type": "code",
   "execution_count": null,
   "metadata": {},
   "outputs": [],
   "source": []
  }
 ],
 "metadata": {
  "kernelspec": {
   "display_name": "Python 3",
   "language": "python",
   "name": "python3"
  },
  "language_info": {
   "codemirror_mode": {
    "name": "ipython",
    "version": 3
   },
   "file_extension": ".py",
   "mimetype": "text/x-python",
   "name": "python",
   "nbconvert_exporter": "python",
   "pygments_lexer": "ipython3",
   "version": "3.7.4"
  }
 },
 "nbformat": 4,
 "nbformat_minor": 2
}
